{
  "nbformat": 4,
  "nbformat_minor": 0,
  "metadata": {
    "colab": {
      "provenance": [],
      "authorship_tag": "ABX9TyNtTJhF+P2yfzNkzqPY4co6",
      "include_colab_link": true
    },
    "kernelspec": {
      "name": "python3",
      "display_name": "Python 3"
    },
    "language_info": {
      "name": "python"
    }
  },
  "cells": [
    {
      "cell_type": "markdown",
      "metadata": {
        "id": "view-in-github",
        "colab_type": "text"
      },
      "source": [
        "<a href=\"https://colab.research.google.com/github/sappyb/Codes-Doc/blob/master/Gaussian_Blur.ipynb\" target=\"_parent\"><img src=\"https://colab.research.google.com/assets/colab-badge.svg\" alt=\"Open In Colab\"/></a>"
      ]
    },
    {
      "cell_type": "code",
      "source": [
        "!uv pip install -q --system numba-cuda==0.4.0\n",
        "import os\n",
        "from numba import config\n",
        "config.CUDA_ENABLE_PYNVJITLINK = 1"
      ],
      "metadata": {
        "id": "-_2EtqwPRLy4"
      },
      "execution_count": null,
      "outputs": []
    },
    {
      "cell_type": "code",
      "execution_count": null,
      "metadata": {
        "id": "SvV0Yi42QtQX"
      },
      "outputs": [],
      "source": [
        "import numpy as np\n",
        "from numba import cuda\n",
        "import matplotlib.pyplot as plt\n",
        "from scipy.ndimage import convolve  # for CPU reference\n",
        "\n",
        "# 1. Prepare a test image (you can also load via plt.imread)\n",
        "height, width = 512, 512\n",
        "img = np.random.randint(0, 256, size=(height, width)).astype(np.uint8)\n",
        "\n",
        "# 2. CPU reference: 3×3 Gaussian kernel\n",
        "gauss3 = np.array([[1, 2, 1],\n",
        "                   [2, 4, 2],\n",
        "                   [1, 2, 1]], dtype=np.float32) / 16.0\n",
        "cpu_blur = convolve(img, gauss3, mode='nearest').astype(np.uint8)\n",
        "\n",
        "# 3. CUDA kernel: each thread handles one (x,y) pixel\n",
        "@cuda.jit\n",
        "def gaussian_blur_kernel(in_img, out_img):\n",
        "    x, y = cuda.grid(2)\n",
        "    height, width = in_img.shape\n",
        "\n",
        "    if x < height and y < width:\n",
        "        s = 0.0\n",
        "        # Hard-code the 3×3 weights\n",
        "        for dy in range(-1, 2):\n",
        "            for dx in range(-1, 2):\n",
        "                xi = x + dy\n",
        "                yj = y + dx\n",
        "                # clamp to edge for boundary pixels\n",
        "                if xi < 0:\n",
        "                    xi = 0\n",
        "                elif xi >= height:\n",
        "                    xi = height - 1\n",
        "                if yj < 0:\n",
        "                    yj = 0\n",
        "                elif yj >= width:\n",
        "                    yj = width - 1\n",
        "\n",
        "                # mapping (dy,dx) → weight\n",
        "                if   dy == -1 and dx == -1: w = 1/16\n",
        "                elif dy == -1 and dx ==  0: w = 2/16\n",
        "                elif dy == -1 and dx ==  1: w = 1/16\n",
        "                elif dy ==  0 and dx == -1: w = 2/16\n",
        "                elif dy ==  0 and dx ==  0: w = 4/16\n",
        "                elif dy ==  0 and dx ==  1: w = 2/16\n",
        "                elif dy ==  1 and dx == -1: w = 1/16\n",
        "                elif dy ==  1 and dx ==  0: w = 2/16\n",
        "                else:                        w = 1/16\n",
        "\n",
        "                s += in_img[xi, yj] * w\n",
        "\n",
        "        out_img[x, y] = np.uint8(s + 0.5)  # round to nearest\n",
        "\n",
        "# 4. Launch parameters\n",
        "threads_per_block = (16, 16)\n",
        "blocks_per_grid_x = (height + threads_per_block[0] - 1) // threads_per_block[0]\n",
        "blocks_per_grid_y = (width  + threads_per_block[1] - 1) // threads_per_block[1]\n",
        "blocks_per_grid   = (blocks_per_grid_x, blocks_per_grid_y)\n",
        "\n",
        "# 5. Copy data to GPU, run kernel, copy back\n",
        "d_in  = cuda.to_device(img)\n",
        "d_out = cuda.device_array_like(img)\n",
        "gaussian_blur_kernel[blocks_per_grid, threads_per_block](d_in, d_out)\n",
        "cuda.synchronize()\n",
        "gpu_blur = d_out.copy_to_host()\n",
        "\n",
        "# 6. Verify correctness\n",
        "print(\"Max difference between CPU and GPU:\", np.max(np.abs(cpu_blur.astype(int) - gpu_blur.astype(int))))\n",
        "\n",
        "# 7. Display results\n",
        "fig, ax = plt.subplots(1, 3, figsize=(15, 5))\n",
        "ax[0].imshow(img,     cmap='gray'); ax[0].set_title(\"Original\"); ax[0].axis('off')\n",
        "ax[1].imshow(cpu_blur, cmap='gray'); ax[1].set_title(\"CPU Gaussian\"); ax[1].axis('off')\n",
        "ax[2].imshow(gpu_blur, cmap='gray'); ax[2].set_title(\"GPU Gaussian\"); ax[2].axis('off')\n",
        "plt.show()\n"
      ]
    }
  ]
}