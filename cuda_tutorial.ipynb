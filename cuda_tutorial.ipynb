{
  "nbformat": 4,
  "nbformat_minor": 0,
  "metadata": {
    "colab": {
      "provenance": [],
      "gpuType": "T4",
      "authorship_tag": "ABX9TyPrtKkBIKL7C5ykgon5PtvI",
      "include_colab_link": true
    },
    "kernelspec": {
      "name": "python3",
      "display_name": "Python 3"
    },
    "language_info": {
      "name": "python"
    },
    "accelerator": "GPU"
  },
  "cells": [
    {
      "cell_type": "markdown",
      "metadata": {
        "id": "view-in-github",
        "colab_type": "text"
      },
      "source": [
        "<a href=\"https://colab.research.google.com/github/sappyb/Codes-Doc/blob/master/cuda_tutorial.ipynb\" target=\"_parent\"><img src=\"https://colab.research.google.com/assets/colab-badge.svg\" alt=\"Open In Colab\"/></a>"
      ]
    },
    {
      "cell_type": "code",
      "execution_count": 1,
      "metadata": {
        "id": "0Gg6Pf1Rdwx7"
      },
      "outputs": [],
      "source": [
        "!uv pip install -q --system numba-cuda==0.4.0\n",
        "import os\n",
        "from numba import config\n",
        "config.CUDA_ENABLE_PYNVJITLINK = 1"
      ]
    },
    {
      "cell_type": "code",
      "source": [
        "from numba import cuda\n",
        "print(cuda.detect())  # should list a GPU device\n"
      ],
      "metadata": {
        "colab": {
          "base_uri": "https://localhost:8080/"
        },
        "id": "SAh4EzhHfkVp",
        "outputId": "8b93ba17-baac-4a1c-8f1e-bb93bab44d2a"
      },
      "execution_count": 2,
      "outputs": [
        {
          "output_type": "stream",
          "name": "stdout",
          "text": [
            "Found 1 CUDA devices\n",
            "id 0             b'Tesla T4'                              [SUPPORTED]\n",
            "                      Compute Capability: 7.5\n",
            "                           PCI Device ID: 4\n",
            "                              PCI Bus ID: 0\n",
            "                                    UUID: GPU-90b0b386-3a86-eb8a-3365-d9c86cd16b5e\n",
            "                                Watchdog: Disabled\n",
            "             FP32/FP64 Performance Ratio: 32\n",
            "Summary:\n",
            "\t1/1 devices are supported\n",
            "True\n"
          ]
        }
      ]
    },
    {
      "cell_type": "code",
      "source": [
        "import numpy as np\n",
        "from numba import cuda\n",
        "\n",
        "# Prepare data\n",
        "N = 100000000\n",
        "A = np.random.rand(N).astype(np.float32)\n",
        "B = np.random.rand(N).astype(np.float32)\n",
        "C = np.zeros_like(A)"
      ],
      "metadata": {
        "id": "3unb6ydDqQZ4"
      },
      "execution_count": 3,
      "outputs": []
    },
    {
      "cell_type": "code",
      "source": [
        "# Copy to device\n",
        "dA = cuda.to_device(A)\n",
        "dB = cuda.to_device(B)\n",
        "dC = cuda.device_array_like(A)"
      ],
      "metadata": {
        "id": "YpCgC7wsqUBr"
      },
      "execution_count": 4,
      "outputs": []
    },
    {
      "cell_type": "code",
      "source": [
        "from numba import cuda\n",
        "\n",
        "# Grab the current CUDA device\n",
        "dev = cuda.get_current_device()\n",
        "\n",
        "# 1. Maximum threads per block\n",
        "print(\"Max threads per block:\", dev.MAX_THREADS_PER_BLOCK)\n",
        "\n",
        "# 2. Maximum size of each block dimension\n",
        "print(\"Max block dim (x,y,z):\",\n",
        "      dev.MAX_BLOCK_DIM_X,\n",
        "      dev.MAX_BLOCK_DIM_Y,\n",
        "      dev.MAX_BLOCK_DIM_Z)\n",
        "\n",
        "# 3. Maximum size of each grid dimension\n",
        "print(\"Max grid dim (x,y,z):\",\n",
        "      dev.MAX_GRID_DIM_X,\n",
        "      dev.MAX_GRID_DIM_Y,\n",
        "      dev.MAX_GRID_DIM_Z)\n",
        "\n",
        "# 4. Warp size (threads are scheduled in warps of this size)\n",
        "print(\"Warp size:\", dev.WARP_SIZE)\n",
        "\n",
        "# 5. Multiprocessor info (for occupancy considerations)\n",
        "print(\"Multiprocessors:\", dev.MULTIPROCESSOR_COUNT)\n",
        "# Instead of dev.MAX_THREADS_PER_MULTIPROCESSOR, try this:\n",
        "#print(\"Max threads per multiprocessor:\", dev.MAX_THREADS_PER_SM)\n",
        "# MAX_THREADS_PER_SM might be the correct attribute name for your CUDA version\n",
        "# or device. SM stands for Streaming Multiprocessor."
      ],
      "metadata": {
        "colab": {
          "base_uri": "https://localhost:8080/"
        },
        "id": "Jz_BszVvqZmj",
        "outputId": "a0d69e1c-e3a5-4c2a-f2d6-c14b0f7f963b"
      },
      "execution_count": 5,
      "outputs": [
        {
          "output_type": "stream",
          "name": "stdout",
          "text": [
            "Max threads per block: 1024\n",
            "Max block dim (x,y,z): 1024 1024 64\n",
            "Max grid dim (x,y,z): 2147483647 65535 65535\n",
            "Warp size: 32\n",
            "Multiprocessors: 40\n"
          ]
        }
      ]
    },
    {
      "cell_type": "code",
      "source": [
        "threads_per_block = 1024\n",
        "blocks = (N + threads_per_block - 1) // threads_per_block\n",
        "\n",
        "# 1D checks\n",
        "assert threads_per_block <= dev.MAX_THREADS_PER_BLOCK\n",
        "assert blocks           <= dev.MAX_GRID_DIM_X\n",
        "assert threads_per_block % dev.WARP_SIZE == 0\n",
        "print(\"Launch configuration is compatible!\")\n"
      ],
      "metadata": {
        "colab": {
          "base_uri": "https://localhost:8080/"
        },
        "id": "gEKa9CkcrNhQ",
        "outputId": "d8680125-b60d-41a4-a370-01c63bf20e6a"
      },
      "execution_count": 6,
      "outputs": [
        {
          "output_type": "stream",
          "name": "stdout",
          "text": [
            "Launch configuration is compatible!\n"
          ]
        }
      ]
    },
    {
      "cell_type": "code",
      "source": [
        "@cuda.jit\n",
        "def add_kernel(a, b, c):\n",
        "    i = cuda.grid(1)                # 1D grid index\n",
        "    if i < a.size:\n",
        "        c[i] = a[i] + b[i]"
      ],
      "metadata": {
        "id": "vIQW6-lRreJV"
      },
      "execution_count": 7,
      "outputs": []
    },
    {
      "cell_type": "code",
      "source": [
        "# Launch kernel with enough threads to cover N elements\n",
        "threads_per_block = 256\n",
        "blocks = (N + threads_per_block - 1) // threads_per_block\n",
        "add_kernel[blocks, threads_per_block](dA, dB, dC)"
      ],
      "metadata": {
        "id": "LwUig9vQrYff"
      },
      "execution_count": 8,
      "outputs": []
    },
    {
      "cell_type": "code",
      "source": [
        "import time\n",
        "# Try different block sizes\n",
        "thread_options = [128, 256, 512, 1024]\n",
        "results = []\n",
        "\n",
        "for threads_per_block in thread_options:\n",
        "    blocks = (N + threads_per_block - 1) // threads_per_block\n",
        "    # Allocate output on GPU\n",
        "    dC = cuda.device_array_like(A)\n",
        "\n",
        "    # Warm up\n",
        "    add_kernel[blocks, threads_per_block](dA, dB, dC)\n",
        "    cuda.synchronize()\n",
        "\n",
        "    # Time the kernel\n",
        "    start = time.time()\n",
        "    add_kernel[blocks, threads_per_block](dA, dB, dC)\n",
        "    cuda.synchronize()\n",
        "    elapsed = time.time() - start\n",
        "\n",
        "    # Copy back and verify\n",
        "    C = dC.copy_to_host()\n",
        "    correct = np.allclose(C, A + B)\n",
        "\n",
        "    results.append((threads_per_block, blocks, elapsed * 1000, correct))\n",
        "\n",
        "# Display results\n",
        "import pandas as pd\n",
        "df = pd.DataFrame(results, columns=[\"Threads/block\", \"Blocks\", \"Time (ms)\", \"Correct\"])\n",
        "print(df)"
      ],
      "metadata": {
        "colab": {
          "base_uri": "https://localhost:8080/"
        },
        "id": "WY2Mkbddypmp",
        "outputId": "9d420aa3-6a4b-4963-fe68-738edd2d9a22"
      },
      "execution_count": 9,
      "outputs": [
        {
          "output_type": "stream",
          "name": "stdout",
          "text": [
            "   Threads/block  Blocks  Time (ms)  Correct\n",
            "0            128  781250   4.710197     True\n",
            "1            256  390625   4.708529     True\n",
            "2            512  195313   4.801989     True\n",
            "3           1024   97657   5.205154     True\n"
          ]
        }
      ]
    },
    {
      "cell_type": "code",
      "source": [
        "# Benchmark settings\n",
        "thread_options = [128, 256, 512]\n",
        "results = []\n",
        "\n",
        "for threads_per_block in thread_options:\n",
        "    blocks = (N + threads_per_block - 1) // threads_per_block\n",
        "    dC = cuda.device_array_like(A)\n",
        "\n",
        "    # Warm up\n",
        "    add_kernel[blocks, threads_per_block](dA, dB, dC)\n",
        "    cuda.synchronize()\n",
        "\n",
        "    # Create CUDA events for precise timing\n",
        "    start_evt = cuda.event()\n",
        "    end_evt   = cuda.event()\n",
        "\n",
        "    # Record start event\n",
        "    start_evt.record()\n",
        "\n",
        "    # Run kernel multiple times to average out jitter\n",
        "    n_iters = 100\n",
        "    for _ in range(n_iters):\n",
        "        add_kernel[blocks, threads_per_block](dA, dB, dC)\n",
        "\n",
        "    # Record end event and synchronize\n",
        "    end_evt.record()\n",
        "    end_evt.synchronize()\n",
        "\n",
        "    # Compute average elapsed time (ms)\n",
        "    # elapsed_ms = start_evt.time_till(end_evt) / n_iters # This line was causing the error\n",
        "    elapsed_ms = cuda.event_elapsed_time(start_evt, end_evt) / n_iters # Use cuda.event_elapsed_time instead\n",
        "\n",
        "    # Copy result back and verify correctness\n",
        "    C = dC.copy_to_host()\n",
        "    correct = np.allclose(C, A + B)\n",
        "\n",
        "    results.append((threads_per_block, blocks, elapsed_ms, correct))\n",
        "\n",
        "# Prepare and display results\n",
        "df = pd.DataFrame(results, columns=[\"Threads/block\", \"Blocks\", \"Time (ms)\", \"Correct\"])"
      ],
      "metadata": {
        "id": "sNZA1EOP6GEH"
      },
      "execution_count": 10,
      "outputs": []
    },
    {
      "cell_type": "code",
      "source": [
        "print(df)"
      ],
      "metadata": {
        "colab": {
          "base_uri": "https://localhost:8080/"
        },
        "id": "ic8gF8MUGCI8",
        "outputId": "7ae8bb8a-e40f-4180-dff6-80f5fb85d10b"
      },
      "execution_count": 11,
      "outputs": [
        {
          "output_type": "stream",
          "name": "stdout",
          "text": [
            "   Threads/block  Blocks  Time (ms)  Correct\n",
            "0            128  781250   4.592357     True\n",
            "1            256  390625   4.638435     True\n",
            "2            512  195313   4.632944     True\n"
          ]
        }
      ]
    },
    {
      "cell_type": "code",
      "source": [
        "import numpy as np\n",
        "from numba import cuda\n",
        "import time\n",
        "import pandas as pd\n",
        "\n",
        "# CUDA kernel for vector addition\n",
        "@cuda.jit\n",
        "def add_kernel(a, b, c):\n",
        "    i = cuda.grid(1)\n",
        "    if i < a.size:\n",
        "        c[i] = a[i] + b[i]\n",
        "\n",
        "# Problem size\n",
        "N = 100_000_000  # adjust as needed\n",
        "\n",
        "# Prepare host data\n",
        "A = np.random.rand(N).astype(np.float32)\n",
        "B = np.random.rand(N).astype(np.float32)\n",
        "\n",
        "# Copy inputs to device once\n",
        "dA = cuda.to_device(A)\n",
        "dB = cuda.to_device(B)\n",
        "\n",
        "# Benchmark settings\n",
        "thread_options = [128, 256, 512]\n",
        "results = []\n",
        "\n",
        "for threads_per_block in thread_options:\n",
        "    blocks = (N + threads_per_block - 1) // threads_per_block\n",
        "    dC = cuda.device_array_like(A)\n",
        "\n",
        "    # Warm up\n",
        "    add_kernel[blocks, threads_per_block](dA, dB, dC)\n",
        "    cuda.synchronize()\n",
        "\n",
        "    # Precise GPU timing with events\n",
        "    start_evt = cuda.event()\n",
        "    end_evt   = cuda.event()\n",
        "    start_evt.record()\n",
        "    add_kernel[blocks, threads_per_block](dA, dB, dC)\n",
        "    end_evt.record()\n",
        "    end_evt.synchronize()\n",
        "    # Use cuda.event_elapsed_time to get the elapsed time between events\n",
        "    elapsed_ms = cuda.event_elapsed_time(start_evt, end_evt)\n",
        "\n",
        "    # Copy back & verify\n",
        "    C = dC.copy_to_host()\n",
        "    correct = bool(np.allclose(C, A + B))\n",
        "\n",
        "    # Compute metrics\n",
        "    # Each element: 2 reads + 1 write of float32 → 3 * 4 bytes\n",
        "    bytes_moved = N * 3 * 4\n",
        "    bandwidth_gbs = (bytes_moved / (elapsed_ms / 1000)) / 1e9\n",
        "\n",
        "    # Each element: 1 add → N flops\n",
        "    gflops = (N / (elapsed_ms / 1000)) / 1e9\n",
        "\n",
        "    results.append({\n",
        "        \"Threads/block\": threads_per_block,\n",
        "        \"Blocks\": blocks,\n",
        "        \"Time (ms)\": round(elapsed_ms, 3),\n",
        "        \"Bandwidth (GB/s)\": round(bandwidth_gbs, 1),\n",
        "        \"Throughput (GFLOP/s)\": round(gflops, 1),\n",
        "        \"Correct\": correct\n",
        "    })\n",
        "\n",
        "df = pd.DataFrame(results)\n",
        "print(df)"
      ],
      "metadata": {
        "colab": {
          "base_uri": "https://localhost:8080/"
        },
        "id": "tkAG4M6W6TxV",
        "outputId": "ebd1c5fc-8ced-4689-fae2-ed07599fb5ce"
      },
      "execution_count": 13,
      "outputs": [
        {
          "output_type": "stream",
          "name": "stdout",
          "text": [
            "   Threads/block  Blocks  Time (ms)  Bandwidth (GB/s)  Throughput (GFLOP/s)  \\\n",
            "0            128  781250      4.725             254.0                  21.2   \n",
            "1            256  390625      4.688             256.0                  21.3   \n",
            "2            512  195313      4.758             252.2                  21.0   \n",
            "\n",
            "   Correct  \n",
            "0     True  \n",
            "1     True  \n",
            "2     True  \n"
          ]
        }
      ]
    }
  ]
}