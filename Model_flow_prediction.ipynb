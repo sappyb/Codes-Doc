{
  "nbformat": 4,
  "nbformat_minor": 0,
  "metadata": {
    "colab": {
      "provenance": [],
      "include_colab_link": true
    },
    "kernelspec": {
      "display_name": "Python 3",
      "name": "python3"
    },
    "language_info": {
      "name": "python"
    }
  },
  "cells": [
    {
      "cell_type": "markdown",
      "metadata": {
        "id": "view-in-github",
        "colab_type": "text"
      },
      "source": [
        "<a href=\"https://colab.research.google.com/github/sappyb/Codes-Doc/blob/master/Model_flow_prediction.ipynb\" target=\"_parent\"><img src=\"https://colab.research.google.com/assets/colab-badge.svg\" alt=\"Open In Colab\"/></a>"
      ]
    },
    {
      "cell_type": "code",
      "metadata": {
        "id": "1vNWiSnT1Z3W"
      },
      "source": [
        "import pandas as pd\n",
        "import numpy as np\n",
        "from sklearn.preprocessing import LabelEncoder\n",
        "import math"
      ],
      "execution_count": null,
      "outputs": []
    },
    {
      "cell_type": "code",
      "metadata": {
        "colab": {
          "base_uri": "https://localhost:8080/"
        },
        "id": "IQhkRddL8sFR",
        "outputId": "febf9e14-678e-4f91-d27c-e6a00d94b542"
      },
      "source": [
        "from google.colab import drive\n",
        "drive.mount('/content/gdrive')"
      ],
      "execution_count": null,
      "outputs": [
        {
          "output_type": "stream",
          "name": "stdout",
          "text": [
            "Mounted at /content/gdrive\n"
          ]
        }
      ]
    },
    {
      "cell_type": "code",
      "metadata": {
        "id": "xvW2FvsL9Ai_"
      },
      "source": [
        "images_dir = '/content/gdrive/My Drive/rate_distribution'\n",
        "model_dir = '/content/gdrive/My Drive/rate_distribution/mymodel_1'\n",
        "model_dir = '/content/gdrive/My Drive/rate_distribution/mymodel_2'\n",
        "work_dir = '/content/gdrive/My Drive/rate_distribution'"
      ],
      "execution_count": null,
      "outputs": []
    },
    {
      "cell_type": "code",
      "metadata": {
        "id": "D1wvYWSs2dHN"
      },
      "source": [
        "from collections import Counter\n",
        "from sklearn.model_selection import train_test_split\n"
      ],
      "execution_count": null,
      "outputs": []
    },
    {
      "cell_type": "code",
      "metadata": {
        "id": "KzEQDG4e4ffV"
      },
      "source": [
        "import matplotlib.pyplot as plt"
      ],
      "execution_count": null,
      "outputs": []
    },
    {
      "cell_type": "code",
      "metadata": {
        "id": "vQQRQd507gxh"
      },
      "source": [
        "#applications = ['amg', 'kripke', 'laghos', 'stencil4d', 'subcomm3d', 'sw4lite']\n",
        "#applications = ['amg', 'laghos', 'stencil4d', 'kripke']\n",
        "applications = ['subcomm3d']\n",
        "ranks = ['32', '64', '128', '256', '512']"
      ],
      "execution_count": null,
      "outputs": []
    },
    {
      "cell_type": "code",
      "metadata": {
        "colab": {
          "base_uri": "https://localhost:8080/"
        },
        "id": "PZmR8t9nyxc1",
        "outputId": "cfe81592-8c5b-47fe-9eb3-4f164b1a4e26"
      },
      "source": [
        "prepivot_train = pd.DataFrame()\n",
        "prepivot_test = pd.DataFrame()\n",
        "number_of_flows_per_application = []\n",
        "for i in applications:\n",
        "  for j in ranks:\n",
        "    f_name = '/content/gdrive/My Drive/csvs/full-{}-{}.csv'.format(i, j)\n",
        "\n",
        "    data_a = pd.read_csv(f_name)\n",
        "    data_a = data_a.sample(frac=1).reset_index(drop=True)\n",
        "    if j == '32':\n",
        "      if i == 'amg':\n",
        "        data_a = data_a.head(int(100 * 3.5))\n",
        "      elif i == 'kripke':\n",
        "        data_a = data_a.head(int(100 * 4))\n",
        "        data_a = pd.DataFrame(pd.np.repeat(data_a.values,2,axis=0),columns=data_a.columns)\n",
        "      elif i == 'laghos':\n",
        "        data_a = data_a.head(int(100 * 6))\n",
        "      else:\n",
        "        data_a = data_a.head(int(100))\n",
        "    if j == '64':\n",
        "      if i == 'amg':\n",
        "        data_a = data_a.head(int(220 * 3.5))\n",
        "      elif i == 'kripke':\n",
        "        data_a = data_a.head(int(220 * 4))\n",
        "        data_a = pd.DataFrame(pd.np.repeat(data_a.values,2,axis=0),columns=data_a.columns)\n",
        "      elif i == 'laghos':\n",
        "        data_a = data_a.head(int(220 * 6))\n",
        "      else:\n",
        "        data_a = data_a.head(int(220))\n",
        "    if j == '128':\n",
        "      if i == 'amg':\n",
        "        data_a = data_a.head(int(460 * 3.5))\n",
        "      if i == 'kripke':\n",
        "        data_a = data_a.head(int(460 * 4))\n",
        "        data_a = pd.DataFrame(pd.np.repeat(data_a.values,2,axis=0),columns=data_a.columns)\n",
        "      if i == 'laghos':\n",
        "        data_a = data_a.head(int(460 * 6))\n",
        "      else:\n",
        "        data_a = data_a.head(int(460))\n",
        "    if j == '256':\n",
        "      if i == 'amg':\n",
        "        data_a = data_a.head(int(950 * 3.5))\n",
        "      elif i == 'kripke':\n",
        "        data_a = data_a.head(int(950 * 4))\n",
        "        data_a = pd.DataFrame(pd.np.repeat(data_a.values,2,axis=0),columns=data_a.columns)\n",
        "      elif i == 'laghos':\n",
        "        data_a = data_a.head(int(950 * 6))\n",
        "      else:\n",
        "        data_a = data_a.head(int(950))\n",
        "    if j == '512':\n",
        "      if i == 'amg':\n",
        "        data_a = data_a.head(int(1950 * 3.5))\n",
        "      elif i == 'kripke':\n",
        "        data_a = data_a.head(int(1950 * 4))\n",
        "        data_a = pd.DataFrame(pd.np.repeat(data_a.values,2,axis=0),columns=data_a.columns)\n",
        "      elif i == 'laghos':\n",
        "        data_a = data_a.head(int(1950 * 6))\n",
        "      else:\n",
        "        data_a = data_a.head(int(1950))\n",
        "    data_list = []\n",
        "    for k in range(300):\n",
        "      data_list.append('Data_{}'.format(k))\n",
        "    data_a['result'] = data_a[data_list].sum(axis=1)\n",
        "    elephant = []\n",
        "    for z in data_a['result'].to_list():\n",
        "        if z > (1 * 10**8):\n",
        "          elephant.append(1)\n",
        "        else:\n",
        "          elephant.append(0)\n",
        "    data_a['Is_Elephant'] = elephant\n",
        "    data_a['Application'] = i\n",
        "    data_a['Rank'] = j\n",
        "    prepivot_train = pd.concat([prepivot_train, data_a])\n",
        "    number_of_flows_per_application.append(data_a.shape[0])\n",
        "    elephant.clear()\n",
        "print(prepivot_train)\n"
      ],
      "execution_count": null,
      "outputs": [
        {
          "output_type": "stream",
          "name": "stdout",
          "text": [
            "      Unnamed: 0  Flow_id        Time_0    Rate_0  Packet_Rate_0      Data_0  \\\n",
            "0              0       53  5.499422e+08  0.000000   1.000000e-08         0.0   \n",
            "1              0       83  5.499422e+08  0.125831   3.084000e-05  12583104.0   \n",
            "2              0      140  5.499422e+08  0.125831   3.084000e-05  12583104.0   \n",
            "3              0      139  5.499422e+08  0.136317   3.341000e-05  13631696.0   \n",
            "4              0       60  5.499422e+08  0.000000   1.000000e-08         0.0   \n",
            "...          ...      ...           ...       ...            ...         ...   \n",
            "1945           0     2120  1.070663e+09  0.115345   2.827000e-05  11534512.0   \n",
            "1946           0     5018  1.070663e+09  0.115345   2.827000e-05  11534512.0   \n",
            "1947           0      305  1.070663e+09  0.000000   1.000000e-08         0.0   \n",
            "1948           0     1516  1.070663e+09  0.115345   2.827000e-05  11534512.0   \n",
            "1949           0     6947  1.070663e+09  0.115345   2.827000e-05  11534512.0   \n",
            "\n",
            "            Time_1    Rate_1  Packet_Rate_1     Data_1  ...  Packet_Rate_299  \\\n",
            "0     6.499422e+08  0.000000       0.000000        0.0  ...         0.000000   \n",
            "1     6.499422e+08  0.020972       0.000005  2097184.0  ...         0.000008   \n",
            "2     6.499422e+08  0.020972       0.000005  2097184.0  ...         0.000008   \n",
            "3     6.499422e+08  0.020972       0.000005  2097200.0  ...         0.000008   \n",
            "4     6.499422e+08  0.000000       0.000000        0.0  ...         0.000000   \n",
            "...            ...       ...            ...        ...  ...              ...   \n",
            "1945  1.170663e+09  0.010486       0.000003  1048592.0  ...         0.000003   \n",
            "1946  1.170663e+09  0.010486       0.000003  1048592.0  ...         0.000003   \n",
            "1947  1.170663e+09  0.000000       0.000000        0.0  ...         0.000000   \n",
            "1948  1.170663e+09  0.010486       0.000003  1048592.0  ...         0.000003   \n",
            "1949  1.170663e+09  0.010486       0.000003  1048592.0  ...         0.000003   \n",
            "\n",
            "       Data_299      Time_300  Rate_300  Packet_Rate_300   Data_300  \\\n",
            "0           0.0  3.054994e+10  0.000000         0.000000        0.0   \n",
            "1     3145776.0  3.054994e+10  0.031458         0.000008  3145776.0   \n",
            "2     3145776.0  3.054994e+10  0.031458         0.000008  3145776.0   \n",
            "3     3145776.0  3.054994e+10  0.020972         0.000005  2097184.0   \n",
            "4           0.0  3.054994e+10  0.000000         0.000000        0.0   \n",
            "...         ...           ...       ...              ...        ...   \n",
            "1945  1048592.0  3.107066e+10  0.020972         0.000005  2097184.0   \n",
            "1946  1048592.0  3.107066e+10  0.010486         0.000003  1048592.0   \n",
            "1947        0.0  3.107066e+10  0.000000         0.000000        0.0   \n",
            "1948  1048592.0  3.107066e+10  0.010486         0.000003  1048592.0   \n",
            "1949  1048592.0  3.107066e+10  0.010486         0.000003  1048592.0   \n",
            "\n",
            "           result  Is_Elephant  Application  Rank  \n",
            "0             0.0            0    subcomm3d    32  \n",
            "1     730868624.0            1    subcomm3d    32  \n",
            "2     730868624.0            1    subcomm3d    32  \n",
            "3     730868624.0            1    subcomm3d    32  \n",
            "4             0.0            0    subcomm3d    32  \n",
            "...           ...          ...          ...   ...  \n",
            "1945  343938176.0            1    subcomm3d   512  \n",
            "1946  344986768.0            1    subcomm3d   512  \n",
            "1947          0.0            0    subcomm3d   512  \n",
            "1948  344986768.0            1    subcomm3d   512  \n",
            "1949  344986768.0            1    subcomm3d   512  \n",
            "\n",
            "[3680 rows x 1210 columns]\n"
          ]
        }
      ]
    },
    {
      "cell_type": "code",
      "metadata": {
        "id": "T2YYNKFYJVxB"
      },
      "source": [
        "prepivot_train = prepivot_train.fillna(0)"
      ],
      "execution_count": null,
      "outputs": []
    },
    {
      "cell_type": "code",
      "metadata": {
        "id": "BDWnAuYy5gkD"
      },
      "source": [
        "num_of_samples_train = prepivot_train.shape[0]\n",
        "num_of_time_steps = 301\n",
        "num_of_features = 1"
      ],
      "execution_count": null,
      "outputs": []
    },
    {
      "cell_type": "code",
      "metadata": {
        "id": "D4Gl65OQKAK0"
      },
      "source": [
        "labels_train = prepivot_train['Is_Elephant'].to_list()"
      ],
      "execution_count": null,
      "outputs": []
    },
    {
      "cell_type": "code",
      "metadata": {
        "id": "7QdBstktKCye"
      },
      "source": [
        "for i in range(301):\n",
        "  prepivot_train = prepivot_train.drop('Time_{}'.format(i), axis='columns')\n",
        "  prepivot_train = prepivot_train.drop('Rate_{}'.format(i), axis='columns')\n",
        "  prepivot_train = prepivot_train.drop('Packet_Rate_{}'.format(i), axis='columns')"
      ],
      "execution_count": null,
      "outputs": []
    },
    {
      "cell_type": "code",
      "source": [
        "prepivot_train.iloc[:, 2:-4]"
      ],
      "metadata": {
        "colab": {
          "base_uri": "https://localhost:8080/",
          "height": 488
        },
        "id": "o6gz5KDXHkdg",
        "outputId": "d1f3153c-e9ba-4f69-a6b5-0723df053dc7"
      },
      "execution_count": null,
      "outputs": [
        {
          "output_type": "execute_result",
          "data": {
            "text/plain": [
              "          Data_0     Data_1     Data_2     Data_3     Data_4     Data_5  \\\n",
              "0            0.0        0.0        0.0        0.0        0.0        0.0   \n",
              "1     12583104.0  2097184.0  3145776.0  3145776.0  2097184.0  2097184.0   \n",
              "2     12583104.0  2097184.0  3145776.0  3145776.0  2097184.0  2097184.0   \n",
              "3     13631696.0  2097200.0  3145760.0  2097184.0  2097184.0  3145776.0   \n",
              "4            0.0        0.0        0.0        0.0        0.0        0.0   \n",
              "...          ...        ...        ...        ...        ...        ...   \n",
              "1945  11534512.0  1048592.0  1048592.0  1048592.0  1048592.0  1048592.0   \n",
              "1946  11534512.0  1048592.0  1048592.0  1048592.0  1048592.0  1048592.0   \n",
              "1947         0.0        0.0        0.0        0.0        0.0        0.0   \n",
              "1948  11534512.0  1048592.0  1048592.0  1048592.0  1048592.0  1048592.0   \n",
              "1949  11534512.0  1048592.0  1048592.0  1048592.0  1048592.0  1048592.0   \n",
              "\n",
              "         Data_6     Data_7     Data_8     Data_9  ...   Data_291   Data_292  \\\n",
              "0           0.0        0.0        0.0        0.0  ...        0.0        0.0   \n",
              "1     3145776.0  3145776.0  1048592.0  2097184.0  ...  2097184.0  1048592.0   \n",
              "2     3145776.0  3145776.0  1048592.0  2097184.0  ...  2097184.0  1048592.0   \n",
              "3     3145776.0  2097184.0  2097184.0  2097184.0  ...  3145776.0  2097184.0   \n",
              "4           0.0        0.0        0.0        0.0  ...        0.0        0.0   \n",
              "...         ...        ...        ...        ...  ...        ...        ...   \n",
              "1945  1048592.0  1048592.0  1048592.0  1048592.0  ...  1048592.0  1048592.0   \n",
              "1946  2097184.0  2097184.0        0.0  1048592.0  ...  1048592.0  1048592.0   \n",
              "1947        0.0        0.0        0.0        0.0  ...        0.0        0.0   \n",
              "1948  1048592.0  2097184.0  1048592.0  1048592.0  ...  1048592.0  1048592.0   \n",
              "1949  1048592.0  1048592.0  1048592.0  1048592.0  ...  1048592.0  1048592.0   \n",
              "\n",
              "       Data_293   Data_294   Data_295   Data_296   Data_297   Data_298  \\\n",
              "0           0.0        0.0        0.0        0.0        0.0        0.0   \n",
              "1     2097184.0  3145776.0  2097184.0  2097184.0  2097184.0  3145776.0   \n",
              "2     2097200.0  3145760.0  2097184.0  2097184.0  2097184.0  3145776.0   \n",
              "3     2097184.0  2097184.0  2818096.0  2424864.0  2097184.0  2097184.0   \n",
              "4           0.0        0.0        0.0        0.0        0.0        0.0   \n",
              "...         ...        ...        ...        ...        ...        ...   \n",
              "1945  1048592.0  1048592.0  1048592.0  1048592.0  1048592.0  1048592.0   \n",
              "1946  1048608.0  1048592.0  2097168.0  1048592.0  1048592.0  1048592.0   \n",
              "1947        0.0        0.0        0.0        0.0        0.0        0.0   \n",
              "1948  1048592.0  1048592.0  1048592.0  2097184.0  1048592.0  1048592.0   \n",
              "1949  1048592.0  1048592.0  2097184.0  1048592.0  1048592.0  1048592.0   \n",
              "\n",
              "       Data_299   Data_300  \n",
              "0           0.0        0.0  \n",
              "1     3145776.0  3145776.0  \n",
              "2     3145776.0  3145776.0  \n",
              "3     3145776.0  2097184.0  \n",
              "4           0.0        0.0  \n",
              "...         ...        ...  \n",
              "1945  1048592.0  2097184.0  \n",
              "1946  1048592.0  1048592.0  \n",
              "1947        0.0        0.0  \n",
              "1948  1048592.0  1048592.0  \n",
              "1949  1048592.0  1048592.0  \n",
              "\n",
              "[3680 rows x 301 columns]"
            ],
            "text/html": [
              "\n",
              "  <div id=\"df-5941b116-524a-4b47-a6b7-697d2e40d790\">\n",
              "    <div class=\"colab-df-container\">\n",
              "      <div>\n",
              "<style scoped>\n",
              "    .dataframe tbody tr th:only-of-type {\n",
              "        vertical-align: middle;\n",
              "    }\n",
              "\n",
              "    .dataframe tbody tr th {\n",
              "        vertical-align: top;\n",
              "    }\n",
              "\n",
              "    .dataframe thead th {\n",
              "        text-align: right;\n",
              "    }\n",
              "</style>\n",
              "<table border=\"1\" class=\"dataframe\">\n",
              "  <thead>\n",
              "    <tr style=\"text-align: right;\">\n",
              "      <th></th>\n",
              "      <th>Data_0</th>\n",
              "      <th>Data_1</th>\n",
              "      <th>Data_2</th>\n",
              "      <th>Data_3</th>\n",
              "      <th>Data_4</th>\n",
              "      <th>Data_5</th>\n",
              "      <th>Data_6</th>\n",
              "      <th>Data_7</th>\n",
              "      <th>Data_8</th>\n",
              "      <th>Data_9</th>\n",
              "      <th>...</th>\n",
              "      <th>Data_291</th>\n",
              "      <th>Data_292</th>\n",
              "      <th>Data_293</th>\n",
              "      <th>Data_294</th>\n",
              "      <th>Data_295</th>\n",
              "      <th>Data_296</th>\n",
              "      <th>Data_297</th>\n",
              "      <th>Data_298</th>\n",
              "      <th>Data_299</th>\n",
              "      <th>Data_300</th>\n",
              "    </tr>\n",
              "  </thead>\n",
              "  <tbody>\n",
              "    <tr>\n",
              "      <th>0</th>\n",
              "      <td>0.0</td>\n",
              "      <td>0.0</td>\n",
              "      <td>0.0</td>\n",
              "      <td>0.0</td>\n",
              "      <td>0.0</td>\n",
              "      <td>0.0</td>\n",
              "      <td>0.0</td>\n",
              "      <td>0.0</td>\n",
              "      <td>0.0</td>\n",
              "      <td>0.0</td>\n",
              "      <td>...</td>\n",
              "      <td>0.0</td>\n",
              "      <td>0.0</td>\n",
              "      <td>0.0</td>\n",
              "      <td>0.0</td>\n",
              "      <td>0.0</td>\n",
              "      <td>0.0</td>\n",
              "      <td>0.0</td>\n",
              "      <td>0.0</td>\n",
              "      <td>0.0</td>\n",
              "      <td>0.0</td>\n",
              "    </tr>\n",
              "    <tr>\n",
              "      <th>1</th>\n",
              "      <td>12583104.0</td>\n",
              "      <td>2097184.0</td>\n",
              "      <td>3145776.0</td>\n",
              "      <td>3145776.0</td>\n",
              "      <td>2097184.0</td>\n",
              "      <td>2097184.0</td>\n",
              "      <td>3145776.0</td>\n",
              "      <td>3145776.0</td>\n",
              "      <td>1048592.0</td>\n",
              "      <td>2097184.0</td>\n",
              "      <td>...</td>\n",
              "      <td>2097184.0</td>\n",
              "      <td>1048592.0</td>\n",
              "      <td>2097184.0</td>\n",
              "      <td>3145776.0</td>\n",
              "      <td>2097184.0</td>\n",
              "      <td>2097184.0</td>\n",
              "      <td>2097184.0</td>\n",
              "      <td>3145776.0</td>\n",
              "      <td>3145776.0</td>\n",
              "      <td>3145776.0</td>\n",
              "    </tr>\n",
              "    <tr>\n",
              "      <th>2</th>\n",
              "      <td>12583104.0</td>\n",
              "      <td>2097184.0</td>\n",
              "      <td>3145776.0</td>\n",
              "      <td>3145776.0</td>\n",
              "      <td>2097184.0</td>\n",
              "      <td>2097184.0</td>\n",
              "      <td>3145776.0</td>\n",
              "      <td>3145776.0</td>\n",
              "      <td>1048592.0</td>\n",
              "      <td>2097184.0</td>\n",
              "      <td>...</td>\n",
              "      <td>2097184.0</td>\n",
              "      <td>1048592.0</td>\n",
              "      <td>2097200.0</td>\n",
              "      <td>3145760.0</td>\n",
              "      <td>2097184.0</td>\n",
              "      <td>2097184.0</td>\n",
              "      <td>2097184.0</td>\n",
              "      <td>3145776.0</td>\n",
              "      <td>3145776.0</td>\n",
              "      <td>3145776.0</td>\n",
              "    </tr>\n",
              "    <tr>\n",
              "      <th>3</th>\n",
              "      <td>13631696.0</td>\n",
              "      <td>2097200.0</td>\n",
              "      <td>3145760.0</td>\n",
              "      <td>2097184.0</td>\n",
              "      <td>2097184.0</td>\n",
              "      <td>3145776.0</td>\n",
              "      <td>3145776.0</td>\n",
              "      <td>2097184.0</td>\n",
              "      <td>2097184.0</td>\n",
              "      <td>2097184.0</td>\n",
              "      <td>...</td>\n",
              "      <td>3145776.0</td>\n",
              "      <td>2097184.0</td>\n",
              "      <td>2097184.0</td>\n",
              "      <td>2097184.0</td>\n",
              "      <td>2818096.0</td>\n",
              "      <td>2424864.0</td>\n",
              "      <td>2097184.0</td>\n",
              "      <td>2097184.0</td>\n",
              "      <td>3145776.0</td>\n",
              "      <td>2097184.0</td>\n",
              "    </tr>\n",
              "    <tr>\n",
              "      <th>4</th>\n",
              "      <td>0.0</td>\n",
              "      <td>0.0</td>\n",
              "      <td>0.0</td>\n",
              "      <td>0.0</td>\n",
              "      <td>0.0</td>\n",
              "      <td>0.0</td>\n",
              "      <td>0.0</td>\n",
              "      <td>0.0</td>\n",
              "      <td>0.0</td>\n",
              "      <td>0.0</td>\n",
              "      <td>...</td>\n",
              "      <td>0.0</td>\n",
              "      <td>0.0</td>\n",
              "      <td>0.0</td>\n",
              "      <td>0.0</td>\n",
              "      <td>0.0</td>\n",
              "      <td>0.0</td>\n",
              "      <td>0.0</td>\n",
              "      <td>0.0</td>\n",
              "      <td>0.0</td>\n",
              "      <td>0.0</td>\n",
              "    </tr>\n",
              "    <tr>\n",
              "      <th>...</th>\n",
              "      <td>...</td>\n",
              "      <td>...</td>\n",
              "      <td>...</td>\n",
              "      <td>...</td>\n",
              "      <td>...</td>\n",
              "      <td>...</td>\n",
              "      <td>...</td>\n",
              "      <td>...</td>\n",
              "      <td>...</td>\n",
              "      <td>...</td>\n",
              "      <td>...</td>\n",
              "      <td>...</td>\n",
              "      <td>...</td>\n",
              "      <td>...</td>\n",
              "      <td>...</td>\n",
              "      <td>...</td>\n",
              "      <td>...</td>\n",
              "      <td>...</td>\n",
              "      <td>...</td>\n",
              "      <td>...</td>\n",
              "      <td>...</td>\n",
              "    </tr>\n",
              "    <tr>\n",
              "      <th>1945</th>\n",
              "      <td>11534512.0</td>\n",
              "      <td>1048592.0</td>\n",
              "      <td>1048592.0</td>\n",
              "      <td>1048592.0</td>\n",
              "      <td>1048592.0</td>\n",
              "      <td>1048592.0</td>\n",
              "      <td>1048592.0</td>\n",
              "      <td>1048592.0</td>\n",
              "      <td>1048592.0</td>\n",
              "      <td>1048592.0</td>\n",
              "      <td>...</td>\n",
              "      <td>1048592.0</td>\n",
              "      <td>1048592.0</td>\n",
              "      <td>1048592.0</td>\n",
              "      <td>1048592.0</td>\n",
              "      <td>1048592.0</td>\n",
              "      <td>1048592.0</td>\n",
              "      <td>1048592.0</td>\n",
              "      <td>1048592.0</td>\n",
              "      <td>1048592.0</td>\n",
              "      <td>2097184.0</td>\n",
              "    </tr>\n",
              "    <tr>\n",
              "      <th>1946</th>\n",
              "      <td>11534512.0</td>\n",
              "      <td>1048592.0</td>\n",
              "      <td>1048592.0</td>\n",
              "      <td>1048592.0</td>\n",
              "      <td>1048592.0</td>\n",
              "      <td>1048592.0</td>\n",
              "      <td>2097184.0</td>\n",
              "      <td>2097184.0</td>\n",
              "      <td>0.0</td>\n",
              "      <td>1048592.0</td>\n",
              "      <td>...</td>\n",
              "      <td>1048592.0</td>\n",
              "      <td>1048592.0</td>\n",
              "      <td>1048608.0</td>\n",
              "      <td>1048592.0</td>\n",
              "      <td>2097168.0</td>\n",
              "      <td>1048592.0</td>\n",
              "      <td>1048592.0</td>\n",
              "      <td>1048592.0</td>\n",
              "      <td>1048592.0</td>\n",
              "      <td>1048592.0</td>\n",
              "    </tr>\n",
              "    <tr>\n",
              "      <th>1947</th>\n",
              "      <td>0.0</td>\n",
              "      <td>0.0</td>\n",
              "      <td>0.0</td>\n",
              "      <td>0.0</td>\n",
              "      <td>0.0</td>\n",
              "      <td>0.0</td>\n",
              "      <td>0.0</td>\n",
              "      <td>0.0</td>\n",
              "      <td>0.0</td>\n",
              "      <td>0.0</td>\n",
              "      <td>...</td>\n",
              "      <td>0.0</td>\n",
              "      <td>0.0</td>\n",
              "      <td>0.0</td>\n",
              "      <td>0.0</td>\n",
              "      <td>0.0</td>\n",
              "      <td>0.0</td>\n",
              "      <td>0.0</td>\n",
              "      <td>0.0</td>\n",
              "      <td>0.0</td>\n",
              "      <td>0.0</td>\n",
              "    </tr>\n",
              "    <tr>\n",
              "      <th>1948</th>\n",
              "      <td>11534512.0</td>\n",
              "      <td>1048592.0</td>\n",
              "      <td>1048592.0</td>\n",
              "      <td>1048592.0</td>\n",
              "      <td>1048592.0</td>\n",
              "      <td>1048592.0</td>\n",
              "      <td>1048592.0</td>\n",
              "      <td>2097184.0</td>\n",
              "      <td>1048592.0</td>\n",
              "      <td>1048592.0</td>\n",
              "      <td>...</td>\n",
              "      <td>1048592.0</td>\n",
              "      <td>1048592.0</td>\n",
              "      <td>1048592.0</td>\n",
              "      <td>1048592.0</td>\n",
              "      <td>1048592.0</td>\n",
              "      <td>2097184.0</td>\n",
              "      <td>1048592.0</td>\n",
              "      <td>1048592.0</td>\n",
              "      <td>1048592.0</td>\n",
              "      <td>1048592.0</td>\n",
              "    </tr>\n",
              "    <tr>\n",
              "      <th>1949</th>\n",
              "      <td>11534512.0</td>\n",
              "      <td>1048592.0</td>\n",
              "      <td>1048592.0</td>\n",
              "      <td>1048592.0</td>\n",
              "      <td>1048592.0</td>\n",
              "      <td>1048592.0</td>\n",
              "      <td>1048592.0</td>\n",
              "      <td>1048592.0</td>\n",
              "      <td>1048592.0</td>\n",
              "      <td>1048592.0</td>\n",
              "      <td>...</td>\n",
              "      <td>1048592.0</td>\n",
              "      <td>1048592.0</td>\n",
              "      <td>1048592.0</td>\n",
              "      <td>1048592.0</td>\n",
              "      <td>2097184.0</td>\n",
              "      <td>1048592.0</td>\n",
              "      <td>1048592.0</td>\n",
              "      <td>1048592.0</td>\n",
              "      <td>1048592.0</td>\n",
              "      <td>1048592.0</td>\n",
              "    </tr>\n",
              "  </tbody>\n",
              "</table>\n",
              "<p>3680 rows × 301 columns</p>\n",
              "</div>\n",
              "      <button class=\"colab-df-convert\" onclick=\"convertToInteractive('df-5941b116-524a-4b47-a6b7-697d2e40d790')\"\n",
              "              title=\"Convert this dataframe to an interactive table.\"\n",
              "              style=\"display:none;\">\n",
              "        \n",
              "  <svg xmlns=\"http://www.w3.org/2000/svg\" height=\"24px\"viewBox=\"0 0 24 24\"\n",
              "       width=\"24px\">\n",
              "    <path d=\"M0 0h24v24H0V0z\" fill=\"none\"/>\n",
              "    <path d=\"M18.56 5.44l.94 2.06.94-2.06 2.06-.94-2.06-.94-.94-2.06-.94 2.06-2.06.94zm-11 1L8.5 8.5l.94-2.06 2.06-.94-2.06-.94L8.5 2.5l-.94 2.06-2.06.94zm10 10l.94 2.06.94-2.06 2.06-.94-2.06-.94-.94-2.06-.94 2.06-2.06.94z\"/><path d=\"M17.41 7.96l-1.37-1.37c-.4-.4-.92-.59-1.43-.59-.52 0-1.04.2-1.43.59L10.3 9.45l-7.72 7.72c-.78.78-.78 2.05 0 2.83L4 21.41c.39.39.9.59 1.41.59.51 0 1.02-.2 1.41-.59l7.78-7.78 2.81-2.81c.8-.78.8-2.07 0-2.86zM5.41 20L4 18.59l7.72-7.72 1.47 1.35L5.41 20z\"/>\n",
              "  </svg>\n",
              "      </button>\n",
              "      \n",
              "  <style>\n",
              "    .colab-df-container {\n",
              "      display:flex;\n",
              "      flex-wrap:wrap;\n",
              "      gap: 12px;\n",
              "    }\n",
              "\n",
              "    .colab-df-convert {\n",
              "      background-color: #E8F0FE;\n",
              "      border: none;\n",
              "      border-radius: 50%;\n",
              "      cursor: pointer;\n",
              "      display: none;\n",
              "      fill: #1967D2;\n",
              "      height: 32px;\n",
              "      padding: 0 0 0 0;\n",
              "      width: 32px;\n",
              "    }\n",
              "\n",
              "    .colab-df-convert:hover {\n",
              "      background-color: #E2EBFA;\n",
              "      box-shadow: 0px 1px 2px rgba(60, 64, 67, 0.3), 0px 1px 3px 1px rgba(60, 64, 67, 0.15);\n",
              "      fill: #174EA6;\n",
              "    }\n",
              "\n",
              "    [theme=dark] .colab-df-convert {\n",
              "      background-color: #3B4455;\n",
              "      fill: #D2E3FC;\n",
              "    }\n",
              "\n",
              "    [theme=dark] .colab-df-convert:hover {\n",
              "      background-color: #434B5C;\n",
              "      box-shadow: 0px 1px 3px 1px rgba(0, 0, 0, 0.15);\n",
              "      filter: drop-shadow(0px 1px 2px rgba(0, 0, 0, 0.3));\n",
              "      fill: #FFFFFF;\n",
              "    }\n",
              "  </style>\n",
              "\n",
              "      <script>\n",
              "        const buttonEl =\n",
              "          document.querySelector('#df-5941b116-524a-4b47-a6b7-697d2e40d790 button.colab-df-convert');\n",
              "        buttonEl.style.display =\n",
              "          google.colab.kernel.accessAllowed ? 'block' : 'none';\n",
              "\n",
              "        async function convertToInteractive(key) {\n",
              "          const element = document.querySelector('#df-5941b116-524a-4b47-a6b7-697d2e40d790');\n",
              "          const dataTable =\n",
              "            await google.colab.kernel.invokeFunction('convertToInteractive',\n",
              "                                                     [key], {});\n",
              "          if (!dataTable) return;\n",
              "\n",
              "          const docLinkHtml = 'Like what you see? Visit the ' +\n",
              "            '<a target=\"_blank\" href=https://colab.research.google.com/notebooks/data_table.ipynb>data table notebook</a>'\n",
              "            + ' to learn more about interactive tables.';\n",
              "          element.innerHTML = '';\n",
              "          dataTable['output_type'] = 'display_data';\n",
              "          await google.colab.output.renderOutput(dataTable, element);\n",
              "          const docLink = document.createElement('div');\n",
              "          docLink.innerHTML = docLinkHtml;\n",
              "          element.appendChild(docLink);\n",
              "        }\n",
              "      </script>\n",
              "    </div>\n",
              "  </div>\n",
              "  "
            ]
          },
          "metadata": {},
          "execution_count": 32
        }
      ]
    },
    {
      "cell_type": "code",
      "source": [
        "prepivot_train.iloc[:, :]"
      ],
      "metadata": {
        "colab": {
          "base_uri": "https://localhost:8080/",
          "height": 505
        },
        "id": "1D_N2i1_LIdh",
        "outputId": "72be25ef-f250-4ce2-d094-dbf3da9be365"
      },
      "execution_count": null,
      "outputs": [
        {
          "output_type": "execute_result",
          "data": {
            "text/plain": [
              "      Unnamed: 0  Flow_id      Data_0     Data_1     Data_2     Data_3  \\\n",
              "0              0       53         0.0        0.0        0.0        0.0   \n",
              "1              0       83  12583104.0  2097184.0  3145776.0  3145776.0   \n",
              "2              0      140  12583104.0  2097184.0  3145776.0  3145776.0   \n",
              "3              0      139  13631696.0  2097200.0  3145760.0  2097184.0   \n",
              "4              0       60         0.0        0.0        0.0        0.0   \n",
              "...          ...      ...         ...        ...        ...        ...   \n",
              "1945           0     2120  11534512.0  1048592.0  1048592.0  1048592.0   \n",
              "1946           0     5018  11534512.0  1048592.0  1048592.0  1048592.0   \n",
              "1947           0      305         0.0        0.0        0.0        0.0   \n",
              "1948           0     1516  11534512.0  1048592.0  1048592.0  1048592.0   \n",
              "1949           0     6947  11534512.0  1048592.0  1048592.0  1048592.0   \n",
              "\n",
              "         Data_4     Data_5     Data_6     Data_7  ...   Data_295   Data_296  \\\n",
              "0           0.0        0.0        0.0        0.0  ...        0.0        0.0   \n",
              "1     2097184.0  2097184.0  3145776.0  3145776.0  ...  2097184.0  2097184.0   \n",
              "2     2097184.0  2097184.0  3145776.0  3145776.0  ...  2097184.0  2097184.0   \n",
              "3     2097184.0  3145776.0  3145776.0  2097184.0  ...  2818096.0  2424864.0   \n",
              "4           0.0        0.0        0.0        0.0  ...        0.0        0.0   \n",
              "...         ...        ...        ...        ...  ...        ...        ...   \n",
              "1945  1048592.0  1048592.0  1048592.0  1048592.0  ...  1048592.0  1048592.0   \n",
              "1946  1048592.0  1048592.0  2097184.0  2097184.0  ...  2097168.0  1048592.0   \n",
              "1947        0.0        0.0        0.0        0.0  ...        0.0        0.0   \n",
              "1948  1048592.0  1048592.0  1048592.0  2097184.0  ...  1048592.0  2097184.0   \n",
              "1949  1048592.0  1048592.0  1048592.0  1048592.0  ...  2097184.0  1048592.0   \n",
              "\n",
              "       Data_297   Data_298   Data_299   Data_300       result  Is_Elephant  \\\n",
              "0           0.0        0.0        0.0        0.0          0.0            0   \n",
              "1     2097184.0  3145776.0  3145776.0  3145776.0  730868624.0            1   \n",
              "2     2097184.0  3145776.0  3145776.0  3145776.0  730868624.0            1   \n",
              "3     2097184.0  2097184.0  3145776.0  2097184.0  730868624.0            1   \n",
              "4           0.0        0.0        0.0        0.0          0.0            0   \n",
              "...         ...        ...        ...        ...          ...          ...   \n",
              "1945  1048592.0  1048592.0  1048592.0  2097184.0  343938176.0            1   \n",
              "1946  1048592.0  1048592.0  1048592.0  1048592.0  344986768.0            1   \n",
              "1947        0.0        0.0        0.0        0.0          0.0            0   \n",
              "1948  1048592.0  1048592.0  1048592.0  1048592.0  344986768.0            1   \n",
              "1949  1048592.0  1048592.0  1048592.0  1048592.0  344986768.0            1   \n",
              "\n",
              "      Application  Rank  \n",
              "0       subcomm3d    32  \n",
              "1       subcomm3d    32  \n",
              "2       subcomm3d    32  \n",
              "3       subcomm3d    32  \n",
              "4       subcomm3d    32  \n",
              "...           ...   ...  \n",
              "1945    subcomm3d   512  \n",
              "1946    subcomm3d   512  \n",
              "1947    subcomm3d   512  \n",
              "1948    subcomm3d   512  \n",
              "1949    subcomm3d   512  \n",
              "\n",
              "[3680 rows x 307 columns]"
            ],
            "text/html": [
              "\n",
              "  <div id=\"df-f59721fa-0ac2-4d6f-b16a-ae4f2195b0fc\">\n",
              "    <div class=\"colab-df-container\">\n",
              "      <div>\n",
              "<style scoped>\n",
              "    .dataframe tbody tr th:only-of-type {\n",
              "        vertical-align: middle;\n",
              "    }\n",
              "\n",
              "    .dataframe tbody tr th {\n",
              "        vertical-align: top;\n",
              "    }\n",
              "\n",
              "    .dataframe thead th {\n",
              "        text-align: right;\n",
              "    }\n",
              "</style>\n",
              "<table border=\"1\" class=\"dataframe\">\n",
              "  <thead>\n",
              "    <tr style=\"text-align: right;\">\n",
              "      <th></th>\n",
              "      <th>Unnamed: 0</th>\n",
              "      <th>Flow_id</th>\n",
              "      <th>Data_0</th>\n",
              "      <th>Data_1</th>\n",
              "      <th>Data_2</th>\n",
              "      <th>Data_3</th>\n",
              "      <th>Data_4</th>\n",
              "      <th>Data_5</th>\n",
              "      <th>Data_6</th>\n",
              "      <th>Data_7</th>\n",
              "      <th>...</th>\n",
              "      <th>Data_295</th>\n",
              "      <th>Data_296</th>\n",
              "      <th>Data_297</th>\n",
              "      <th>Data_298</th>\n",
              "      <th>Data_299</th>\n",
              "      <th>Data_300</th>\n",
              "      <th>result</th>\n",
              "      <th>Is_Elephant</th>\n",
              "      <th>Application</th>\n",
              "      <th>Rank</th>\n",
              "    </tr>\n",
              "  </thead>\n",
              "  <tbody>\n",
              "    <tr>\n",
              "      <th>0</th>\n",
              "      <td>0</td>\n",
              "      <td>53</td>\n",
              "      <td>0.0</td>\n",
              "      <td>0.0</td>\n",
              "      <td>0.0</td>\n",
              "      <td>0.0</td>\n",
              "      <td>0.0</td>\n",
              "      <td>0.0</td>\n",
              "      <td>0.0</td>\n",
              "      <td>0.0</td>\n",
              "      <td>...</td>\n",
              "      <td>0.0</td>\n",
              "      <td>0.0</td>\n",
              "      <td>0.0</td>\n",
              "      <td>0.0</td>\n",
              "      <td>0.0</td>\n",
              "      <td>0.0</td>\n",
              "      <td>0.0</td>\n",
              "      <td>0</td>\n",
              "      <td>subcomm3d</td>\n",
              "      <td>32</td>\n",
              "    </tr>\n",
              "    <tr>\n",
              "      <th>1</th>\n",
              "      <td>0</td>\n",
              "      <td>83</td>\n",
              "      <td>12583104.0</td>\n",
              "      <td>2097184.0</td>\n",
              "      <td>3145776.0</td>\n",
              "      <td>3145776.0</td>\n",
              "      <td>2097184.0</td>\n",
              "      <td>2097184.0</td>\n",
              "      <td>3145776.0</td>\n",
              "      <td>3145776.0</td>\n",
              "      <td>...</td>\n",
              "      <td>2097184.0</td>\n",
              "      <td>2097184.0</td>\n",
              "      <td>2097184.0</td>\n",
              "      <td>3145776.0</td>\n",
              "      <td>3145776.0</td>\n",
              "      <td>3145776.0</td>\n",
              "      <td>730868624.0</td>\n",
              "      <td>1</td>\n",
              "      <td>subcomm3d</td>\n",
              "      <td>32</td>\n",
              "    </tr>\n",
              "    <tr>\n",
              "      <th>2</th>\n",
              "      <td>0</td>\n",
              "      <td>140</td>\n",
              "      <td>12583104.0</td>\n",
              "      <td>2097184.0</td>\n",
              "      <td>3145776.0</td>\n",
              "      <td>3145776.0</td>\n",
              "      <td>2097184.0</td>\n",
              "      <td>2097184.0</td>\n",
              "      <td>3145776.0</td>\n",
              "      <td>3145776.0</td>\n",
              "      <td>...</td>\n",
              "      <td>2097184.0</td>\n",
              "      <td>2097184.0</td>\n",
              "      <td>2097184.0</td>\n",
              "      <td>3145776.0</td>\n",
              "      <td>3145776.0</td>\n",
              "      <td>3145776.0</td>\n",
              "      <td>730868624.0</td>\n",
              "      <td>1</td>\n",
              "      <td>subcomm3d</td>\n",
              "      <td>32</td>\n",
              "    </tr>\n",
              "    <tr>\n",
              "      <th>3</th>\n",
              "      <td>0</td>\n",
              "      <td>139</td>\n",
              "      <td>13631696.0</td>\n",
              "      <td>2097200.0</td>\n",
              "      <td>3145760.0</td>\n",
              "      <td>2097184.0</td>\n",
              "      <td>2097184.0</td>\n",
              "      <td>3145776.0</td>\n",
              "      <td>3145776.0</td>\n",
              "      <td>2097184.0</td>\n",
              "      <td>...</td>\n",
              "      <td>2818096.0</td>\n",
              "      <td>2424864.0</td>\n",
              "      <td>2097184.0</td>\n",
              "      <td>2097184.0</td>\n",
              "      <td>3145776.0</td>\n",
              "      <td>2097184.0</td>\n",
              "      <td>730868624.0</td>\n",
              "      <td>1</td>\n",
              "      <td>subcomm3d</td>\n",
              "      <td>32</td>\n",
              "    </tr>\n",
              "    <tr>\n",
              "      <th>4</th>\n",
              "      <td>0</td>\n",
              "      <td>60</td>\n",
              "      <td>0.0</td>\n",
              "      <td>0.0</td>\n",
              "      <td>0.0</td>\n",
              "      <td>0.0</td>\n",
              "      <td>0.0</td>\n",
              "      <td>0.0</td>\n",
              "      <td>0.0</td>\n",
              "      <td>0.0</td>\n",
              "      <td>...</td>\n",
              "      <td>0.0</td>\n",
              "      <td>0.0</td>\n",
              "      <td>0.0</td>\n",
              "      <td>0.0</td>\n",
              "      <td>0.0</td>\n",
              "      <td>0.0</td>\n",
              "      <td>0.0</td>\n",
              "      <td>0</td>\n",
              "      <td>subcomm3d</td>\n",
              "      <td>32</td>\n",
              "    </tr>\n",
              "    <tr>\n",
              "      <th>...</th>\n",
              "      <td>...</td>\n",
              "      <td>...</td>\n",
              "      <td>...</td>\n",
              "      <td>...</td>\n",
              "      <td>...</td>\n",
              "      <td>...</td>\n",
              "      <td>...</td>\n",
              "      <td>...</td>\n",
              "      <td>...</td>\n",
              "      <td>...</td>\n",
              "      <td>...</td>\n",
              "      <td>...</td>\n",
              "      <td>...</td>\n",
              "      <td>...</td>\n",
              "      <td>...</td>\n",
              "      <td>...</td>\n",
              "      <td>...</td>\n",
              "      <td>...</td>\n",
              "      <td>...</td>\n",
              "      <td>...</td>\n",
              "      <td>...</td>\n",
              "    </tr>\n",
              "    <tr>\n",
              "      <th>1945</th>\n",
              "      <td>0</td>\n",
              "      <td>2120</td>\n",
              "      <td>11534512.0</td>\n",
              "      <td>1048592.0</td>\n",
              "      <td>1048592.0</td>\n",
              "      <td>1048592.0</td>\n",
              "      <td>1048592.0</td>\n",
              "      <td>1048592.0</td>\n",
              "      <td>1048592.0</td>\n",
              "      <td>1048592.0</td>\n",
              "      <td>...</td>\n",
              "      <td>1048592.0</td>\n",
              "      <td>1048592.0</td>\n",
              "      <td>1048592.0</td>\n",
              "      <td>1048592.0</td>\n",
              "      <td>1048592.0</td>\n",
              "      <td>2097184.0</td>\n",
              "      <td>343938176.0</td>\n",
              "      <td>1</td>\n",
              "      <td>subcomm3d</td>\n",
              "      <td>512</td>\n",
              "    </tr>\n",
              "    <tr>\n",
              "      <th>1946</th>\n",
              "      <td>0</td>\n",
              "      <td>5018</td>\n",
              "      <td>11534512.0</td>\n",
              "      <td>1048592.0</td>\n",
              "      <td>1048592.0</td>\n",
              "      <td>1048592.0</td>\n",
              "      <td>1048592.0</td>\n",
              "      <td>1048592.0</td>\n",
              "      <td>2097184.0</td>\n",
              "      <td>2097184.0</td>\n",
              "      <td>...</td>\n",
              "      <td>2097168.0</td>\n",
              "      <td>1048592.0</td>\n",
              "      <td>1048592.0</td>\n",
              "      <td>1048592.0</td>\n",
              "      <td>1048592.0</td>\n",
              "      <td>1048592.0</td>\n",
              "      <td>344986768.0</td>\n",
              "      <td>1</td>\n",
              "      <td>subcomm3d</td>\n",
              "      <td>512</td>\n",
              "    </tr>\n",
              "    <tr>\n",
              "      <th>1947</th>\n",
              "      <td>0</td>\n",
              "      <td>305</td>\n",
              "      <td>0.0</td>\n",
              "      <td>0.0</td>\n",
              "      <td>0.0</td>\n",
              "      <td>0.0</td>\n",
              "      <td>0.0</td>\n",
              "      <td>0.0</td>\n",
              "      <td>0.0</td>\n",
              "      <td>0.0</td>\n",
              "      <td>...</td>\n",
              "      <td>0.0</td>\n",
              "      <td>0.0</td>\n",
              "      <td>0.0</td>\n",
              "      <td>0.0</td>\n",
              "      <td>0.0</td>\n",
              "      <td>0.0</td>\n",
              "      <td>0.0</td>\n",
              "      <td>0</td>\n",
              "      <td>subcomm3d</td>\n",
              "      <td>512</td>\n",
              "    </tr>\n",
              "    <tr>\n",
              "      <th>1948</th>\n",
              "      <td>0</td>\n",
              "      <td>1516</td>\n",
              "      <td>11534512.0</td>\n",
              "      <td>1048592.0</td>\n",
              "      <td>1048592.0</td>\n",
              "      <td>1048592.0</td>\n",
              "      <td>1048592.0</td>\n",
              "      <td>1048592.0</td>\n",
              "      <td>1048592.0</td>\n",
              "      <td>2097184.0</td>\n",
              "      <td>...</td>\n",
              "      <td>1048592.0</td>\n",
              "      <td>2097184.0</td>\n",
              "      <td>1048592.0</td>\n",
              "      <td>1048592.0</td>\n",
              "      <td>1048592.0</td>\n",
              "      <td>1048592.0</td>\n",
              "      <td>344986768.0</td>\n",
              "      <td>1</td>\n",
              "      <td>subcomm3d</td>\n",
              "      <td>512</td>\n",
              "    </tr>\n",
              "    <tr>\n",
              "      <th>1949</th>\n",
              "      <td>0</td>\n",
              "      <td>6947</td>\n",
              "      <td>11534512.0</td>\n",
              "      <td>1048592.0</td>\n",
              "      <td>1048592.0</td>\n",
              "      <td>1048592.0</td>\n",
              "      <td>1048592.0</td>\n",
              "      <td>1048592.0</td>\n",
              "      <td>1048592.0</td>\n",
              "      <td>1048592.0</td>\n",
              "      <td>...</td>\n",
              "      <td>2097184.0</td>\n",
              "      <td>1048592.0</td>\n",
              "      <td>1048592.0</td>\n",
              "      <td>1048592.0</td>\n",
              "      <td>1048592.0</td>\n",
              "      <td>1048592.0</td>\n",
              "      <td>344986768.0</td>\n",
              "      <td>1</td>\n",
              "      <td>subcomm3d</td>\n",
              "      <td>512</td>\n",
              "    </tr>\n",
              "  </tbody>\n",
              "</table>\n",
              "<p>3680 rows × 307 columns</p>\n",
              "</div>\n",
              "      <button class=\"colab-df-convert\" onclick=\"convertToInteractive('df-f59721fa-0ac2-4d6f-b16a-ae4f2195b0fc')\"\n",
              "              title=\"Convert this dataframe to an interactive table.\"\n",
              "              style=\"display:none;\">\n",
              "        \n",
              "  <svg xmlns=\"http://www.w3.org/2000/svg\" height=\"24px\"viewBox=\"0 0 24 24\"\n",
              "       width=\"24px\">\n",
              "    <path d=\"M0 0h24v24H0V0z\" fill=\"none\"/>\n",
              "    <path d=\"M18.56 5.44l.94 2.06.94-2.06 2.06-.94-2.06-.94-.94-2.06-.94 2.06-2.06.94zm-11 1L8.5 8.5l.94-2.06 2.06-.94-2.06-.94L8.5 2.5l-.94 2.06-2.06.94zm10 10l.94 2.06.94-2.06 2.06-.94-2.06-.94-.94-2.06-.94 2.06-2.06.94z\"/><path d=\"M17.41 7.96l-1.37-1.37c-.4-.4-.92-.59-1.43-.59-.52 0-1.04.2-1.43.59L10.3 9.45l-7.72 7.72c-.78.78-.78 2.05 0 2.83L4 21.41c.39.39.9.59 1.41.59.51 0 1.02-.2 1.41-.59l7.78-7.78 2.81-2.81c.8-.78.8-2.07 0-2.86zM5.41 20L4 18.59l7.72-7.72 1.47 1.35L5.41 20z\"/>\n",
              "  </svg>\n",
              "      </button>\n",
              "      \n",
              "  <style>\n",
              "    .colab-df-container {\n",
              "      display:flex;\n",
              "      flex-wrap:wrap;\n",
              "      gap: 12px;\n",
              "    }\n",
              "\n",
              "    .colab-df-convert {\n",
              "      background-color: #E8F0FE;\n",
              "      border: none;\n",
              "      border-radius: 50%;\n",
              "      cursor: pointer;\n",
              "      display: none;\n",
              "      fill: #1967D2;\n",
              "      height: 32px;\n",
              "      padding: 0 0 0 0;\n",
              "      width: 32px;\n",
              "    }\n",
              "\n",
              "    .colab-df-convert:hover {\n",
              "      background-color: #E2EBFA;\n",
              "      box-shadow: 0px 1px 2px rgba(60, 64, 67, 0.3), 0px 1px 3px 1px rgba(60, 64, 67, 0.15);\n",
              "      fill: #174EA6;\n",
              "    }\n",
              "\n",
              "    [theme=dark] .colab-df-convert {\n",
              "      background-color: #3B4455;\n",
              "      fill: #D2E3FC;\n",
              "    }\n",
              "\n",
              "    [theme=dark] .colab-df-convert:hover {\n",
              "      background-color: #434B5C;\n",
              "      box-shadow: 0px 1px 3px 1px rgba(0, 0, 0, 0.15);\n",
              "      filter: drop-shadow(0px 1px 2px rgba(0, 0, 0, 0.3));\n",
              "      fill: #FFFFFF;\n",
              "    }\n",
              "  </style>\n",
              "\n",
              "      <script>\n",
              "        const buttonEl =\n",
              "          document.querySelector('#df-f59721fa-0ac2-4d6f-b16a-ae4f2195b0fc button.colab-df-convert');\n",
              "        buttonEl.style.display =\n",
              "          google.colab.kernel.accessAllowed ? 'block' : 'none';\n",
              "\n",
              "        async function convertToInteractive(key) {\n",
              "          const element = document.querySelector('#df-f59721fa-0ac2-4d6f-b16a-ae4f2195b0fc');\n",
              "          const dataTable =\n",
              "            await google.colab.kernel.invokeFunction('convertToInteractive',\n",
              "                                                     [key], {});\n",
              "          if (!dataTable) return;\n",
              "\n",
              "          const docLinkHtml = 'Like what you see? Visit the ' +\n",
              "            '<a target=\"_blank\" href=https://colab.research.google.com/notebooks/data_table.ipynb>data table notebook</a>'\n",
              "            + ' to learn more about interactive tables.';\n",
              "          element.innerHTML = '';\n",
              "          dataTable['output_type'] = 'display_data';\n",
              "          await google.colab.output.renderOutput(dataTable, element);\n",
              "          const docLink = document.createElement('div');\n",
              "          docLink.innerHTML = docLinkHtml;\n",
              "          element.appendChild(docLink);\n",
              "        }\n",
              "      </script>\n",
              "    </div>\n",
              "  </div>\n",
              "  "
            ]
          },
          "metadata": {},
          "execution_count": 33
        }
      ]
    },
    {
      "cell_type": "code",
      "source": [
        "data_test_probe = np.array(prepivot_train.iloc[:, 2:-4])"
      ],
      "metadata": {
        "id": "P1tnGzh4Ilg6"
      },
      "execution_count": null,
      "outputs": []
    },
    {
      "cell_type": "code",
      "source": [
        "row_with_max_value = np.amax(data_test_probe, axis=0)\n",
        "row_with_max_value"
      ],
      "metadata": {
        "colab": {
          "base_uri": "https://localhost:8080/"
        },
        "id": "8knnCQGSJQ47",
        "outputId": "652ed62c-476a-46c4-f232-8a45e5fd3ea2"
      },
      "execution_count": null,
      "outputs": [
        {
          "output_type": "execute_result",
          "data": {
            "text/plain": [
              "array([ 8388672., 12583008., 12583008., 12583008., 12583008., 12583008.,\n",
              "       12583008., 12583008., 14639200., 12583008., 14680160., 13840480.,\n",
              "       12583008., 12582976., 12582976., 12882016., 14549088., 13746272.,\n",
              "       12582976., 13693024., 12583008., 15614048., 13000800., 12583008.,\n",
              "       12583008., 12583008., 12763232., 12583008., 14127200., 15515744.,\n",
              "       13979744., 12583008., 12583008., 13750368., 12583008., 12808288.,\n",
              "       12583008., 14159968., 16777312., 12583008., 13520992., 12583008.,\n",
              "       13594720., 12951648., 13045856., 12583008., 14647392., 12583008.,\n",
              "       12583008., 12583008., 13676640., 15302752., 12583008., 14057568.,\n",
              "       14184544., 13709408., 13652064., 13258848., 13467744., 12583008.,\n",
              "       12582976., 13926496., 14168160., 13127776., 13185120., 12808288.,\n",
              "       12583008., 12902496., 12582976., 12808288., 12583008., 13594720.,\n",
              "       12583008., 13262944., 12583008., 13201504., 14319712., 12583008.,\n",
              "       12869728., 13074528., 12583008., 12582976., 12845152., 14356576.,\n",
              "       12722272., 12583008., 15700064., 14942304., 15655008., 13856864.,\n",
              "       12451936., 12583008., 15962208., 13742176., 12599392., 12582976.,\n",
              "       13598816., 12583008., 12582976., 12583008., 16318560., 12583008.,\n",
              "       12718176., 12775520., 14413920., 12583008., 12583008., 12583008.,\n",
              "       12583008., 12583008., 13406304., 12648544., 12583008., 12583008.,\n",
              "       12583008., 12583008., 14819424., 12583008., 12583008., 16777312.,\n",
              "       12615776., 12582976., 13566048., 12697696., 15515744., 12648544.,\n",
              "       13205600., 12582976., 16777312., 12583008., 13844576., 12583008.,\n",
              "       12583008., 12730464., 13402208., 12582976., 12583008., 13701216.,\n",
              "       13824096., 13881440., 12582976., 12849248., 13348960., 13750368.,\n",
              "       13893728., 12583008., 12583008., 13910112., 14254176., 12582976.,\n",
              "       12582976., 12583008., 12722272., 12583008., 12583008., 12583008.,\n",
              "       14254176., 12685408., 12583008., 12583008., 12583008., 12714080.,\n",
              "       12583008., 13041760., 14061664., 12984416., 12583008., 12582976.,\n",
              "       12583008., 12583008., 12583008., 12583008., 12582976., 14344288.,\n",
              "       13508704., 13209696., 12583008., 12582976., 13082720., 12959840.,\n",
              "       13820000., 11513920., 12583008., 12583008., 13332576., 12583008.,\n",
              "       12582976., 13566048., 14110816., 16777312., 12583008., 12583008.,\n",
              "       13205600., 12583008., 12583008., 12583008., 12583008., 13701216.,\n",
              "       13238368., 13369440., 12582976., 12583008., 14389344., 12583008.,\n",
              "       12583008., 12582976., 12583008., 13881440., 12583008., 12583008.,\n",
              "       13631584., 12583008., 12583008., 13840480., 13230176., 12583008.,\n",
              "       16777312., 12583008., 12583008., 12583008., 15007840., 13299808.,\n",
              "       12582976., 13332576., 12902496., 13647968., 12583008., 12583008.,\n",
              "       12583008., 13893728., 12583008., 14389344., 14360672., 14151776.,\n",
              "       13680736., 14671968., 12583008., 14282848., 12583008., 13627488.,\n",
              "       12583008., 12583008., 12583008., 13500512., 12595296., 12583008.,\n",
              "       13008992., 12583008., 12583008., 12583008., 12775520., 14082144.,\n",
              "       12755040., 12583008., 12583008., 12583008., 16777312., 14835808.,\n",
              "       12583008., 13004896., 13787232., 13598816., 12583008., 12582976.,\n",
              "       12583008., 12583008., 15052896., 14385248., 12583008., 12992608.,\n",
              "       12583008., 16777312., 12582976., 14221408., 13799520., 15437920.,\n",
              "       12582976., 12583008., 13852768., 13533280., 12583008., 12583008.,\n",
              "       13647968., 12583008., 14762080., 12746848., 14438496., 12783712.,\n",
              "       13664352., 13070432., 12583008., 13725792., 14069856., 13086816.,\n",
              "       16154720., 14778464., 13398112., 12583008., 13942880., 12582976.,\n",
              "         604760.])"
            ]
          },
          "metadata": {},
          "execution_count": 15
        }
      ]
    },
    {
      "cell_type": "code",
      "source": [
        "np.sum(row_with_max_value) // 300"
      ],
      "metadata": {
        "colab": {
          "base_uri": "https://localhost:8080/"
        },
        "id": "uVg1oYOjJ02i",
        "outputId": "380b761c-380b-406f-8673-0adfba3a9474"
      },
      "execution_count": null,
      "outputs": [
        {
          "output_type": "execute_result",
          "data": {
            "text/plain": [
              "13331194.0"
            ]
          },
          "metadata": {},
          "execution_count": 64
        }
      ]
    },
    {
      "cell_type": "code",
      "source": [
        "np.amax(data_test_probe)"
      ],
      "metadata": {
        "colab": {
          "base_uri": "https://localhost:8080/"
        },
        "id": "FFg4iK-UMCsu",
        "outputId": "416d385d-c18a-4d13-ccff-fb8b791dbd83"
      },
      "execution_count": null,
      "outputs": [
        {
          "output_type": "execute_result",
          "data": {
            "text/plain": [
              "16777312.0"
            ]
          },
          "metadata": {},
          "execution_count": 65
        }
      ]
    },
    {
      "cell_type": "code",
      "source": [
        "np.amax(np.array(prepivot_train['result']))"
      ],
      "metadata": {
        "colab": {
          "base_uri": "https://localhost:8080/"
        },
        "id": "x70yizmPLOsC",
        "outputId": "fe74a054-cb42-45da-84c8-5e62cdcb65ad"
      },
      "execution_count": null,
      "outputs": [
        {
          "output_type": "execute_result",
          "data": {
            "text/plain": [
              "2773562048.0"
            ]
          },
          "metadata": {},
          "execution_count": 66
        }
      ]
    },
    {
      "cell_type": "code",
      "source": [
        "from sklearn.preprocessing import MinMaxScaler\n",
        "scaler = MinMaxScaler(feature_range=(0,1))"
      ],
      "metadata": {
        "id": "NRtZK-fVY1Ix"
      },
      "execution_count": null,
      "outputs": []
    },
    {
      "cell_type": "code",
      "metadata": {
        "id": "JS84ze18zPLx"
      },
      "source": [
        "from sklearn.preprocessing import MinMaxScaler\n",
        "scaler = MinMaxScaler(feature_range=(0,1))\n",
        "xp_train = scaler.fit_transform(prepivot_train.iloc[:, 2:-4])\n",
        "#xp_train = prepivot_train.iloc[:, 2:-4]"
      ],
      "execution_count": null,
      "outputs": []
    },
    {
      "cell_type": "markdown",
      "metadata": {
        "id": "zVAbjeIyDLES"
      },
      "source": [
        "Arranging the data from 2D to 3D,\n",
        "\n",
        "X axis = Sample\n",
        "Y axis = Time_step\n",
        "Z axis = Features\n"
      ]
    },
    {
      "cell_type": "markdown",
      "metadata": {
        "id": "lxO1OtAFDaE7"
      },
      "source": []
    },
    {
      "cell_type": "code",
      "metadata": {
        "id": "LShPQ1elLtH9"
      },
      "source": [
        "from keras.models import Sequential\n",
        "from keras.layers import Dense, LSTM, Dropout\n",
        "from keras.preprocessing import sequence\n",
        "from keras.regularizers import l2\n",
        "from keras import optimizers\n",
        "import tensorflow as tf"
      ],
      "execution_count": null,
      "outputs": []
    },
    {
      "cell_type": "code",
      "metadata": {
        "id": "5NIKST-KM5Ao"
      },
      "source": [
        "epochs = 50\n",
        "batch_size = 1024\n",
        "time_steps = 301"
      ],
      "execution_count": null,
      "outputs": []
    },
    {
      "cell_type": "code",
      "metadata": {
        "id": "bOroEgaiNTlO"
      },
      "source": [
        "labels_1_train = [[i] for i in labels_train]\n",
        "labels_1_train = np.array(labels_1_train)"
      ],
      "execution_count": null,
      "outputs": []
    },
    {
      "cell_type": "code",
      "metadata": {
        "id": "Jq60vI0yUvb8"
      },
      "source": [
        "train_X = xp_train\n",
        "train_Y = labels_1_train"
      ],
      "execution_count": null,
      "outputs": []
    },
    {
      "cell_type": "code",
      "metadata": {
        "colab": {
          "base_uri": "https://localhost:8080/"
        },
        "id": "h4IxqHuhVb2k",
        "outputId": "c85d83e6-bf63-41dd-aae7-ae28021c5fba"
      },
      "source": [
        "model = Sequential()\n",
        "#model.add(Dense(1, activation='sigmoid'))\n",
        "model.add(Dense(1, activation='sigmoid'))\n",
        "optimizer = tf.keras.optimizers.Nadam(learning_rate=0.01)\n",
        "model.compile(loss='binary_crossentropy', optimizer=optimizer, metrics=['accuracy'])\n",
        "hist = model.fit(train_X, train_Y, validation_split=0.2, epochs=epochs, batch_size=batch_size)\n",
        "print(model.summary())\n",
        "model.save('model', save_format='tf')"
      ],
      "execution_count": null,
      "outputs": [
        {
          "output_type": "stream",
          "name": "stdout",
          "text": [
            "Epoch 1/50\n",
            "32/32 [==============================] - 1s 10ms/step - loss: 0.5840 - accuracy: 0.9869 - val_loss: 0.5699 - val_accuracy: 1.0000\n",
            "Epoch 2/50\n",
            "32/32 [==============================] - 0s 4ms/step - loss: 0.4640 - accuracy: 1.0000 - val_loss: 0.4523 - val_accuracy: 1.0000\n",
            "Epoch 3/50\n",
            "32/32 [==============================] - 0s 8ms/step - loss: 0.3709 - accuracy: 1.0000 - val_loss: 0.3625 - val_accuracy: 1.0000\n",
            "Epoch 4/50\n",
            "32/32 [==============================] - 0s 7ms/step - loss: 0.3005 - accuracy: 0.9985 - val_loss: 0.2948 - val_accuracy: 1.0000\n",
            "Epoch 5/50\n",
            "32/32 [==============================] - 0s 14ms/step - loss: 0.2470 - accuracy: 0.9975 - val_loss: 0.2434 - val_accuracy: 1.0000\n",
            "Epoch 6/50\n",
            "32/32 [==============================] - 0s 12ms/step - loss: 0.2062 - accuracy: 0.9975 - val_loss: 0.2039 - val_accuracy: 1.0000\n",
            "Epoch 7/50\n",
            "32/32 [==============================] - 1s 27ms/step - loss: 0.1744 - accuracy: 0.9975 - val_loss: 0.1731 - val_accuracy: 1.0000\n",
            "Epoch 8/50\n",
            "32/32 [==============================] - 0s 14ms/step - loss: 0.1494 - accuracy: 0.9975 - val_loss: 0.1488 - val_accuracy: 1.0000\n",
            "Epoch 9/50\n",
            "32/32 [==============================] - 0s 10ms/step - loss: 0.1294 - accuracy: 0.9975 - val_loss: 0.1292 - val_accuracy: 1.0000\n",
            "Epoch 10/50\n",
            "32/32 [==============================] - 0s 10ms/step - loss: 0.1132 - accuracy: 0.9975 - val_loss: 0.1134 - val_accuracy: 1.0000\n",
            "Epoch 11/50\n",
            "32/32 [==============================] - 0s 9ms/step - loss: 0.1000 - accuracy: 0.9975 - val_loss: 0.1003 - val_accuracy: 1.0000\n",
            "Epoch 12/50\n",
            "32/32 [==============================] - 0s 14ms/step - loss: 0.0889 - accuracy: 0.9975 - val_loss: 0.0894 - val_accuracy: 1.0000\n",
            "Epoch 13/50\n",
            "32/32 [==============================] - 0s 15ms/step - loss: 0.0797 - accuracy: 0.9975 - val_loss: 0.0803 - val_accuracy: 1.0000\n",
            "Epoch 14/50\n",
            "32/32 [==============================] - 0s 10ms/step - loss: 0.0719 - accuracy: 0.9975 - val_loss: 0.0725 - val_accuracy: 1.0000\n",
            "Epoch 15/50\n",
            "32/32 [==============================] - 0s 13ms/step - loss: 0.0652 - accuracy: 0.9979 - val_loss: 0.0658 - val_accuracy: 1.0000\n",
            "Epoch 16/50\n",
            "32/32 [==============================] - 0s 12ms/step - loss: 0.0594 - accuracy: 0.9999 - val_loss: 0.0601 - val_accuracy: 1.0000\n",
            "Epoch 17/50\n",
            "32/32 [==============================] - 0s 12ms/step - loss: 0.0543 - accuracy: 1.0000 - val_loss: 0.0551 - val_accuracy: 1.0000\n",
            "Epoch 18/50\n",
            "32/32 [==============================] - 0s 15ms/step - loss: 0.0499 - accuracy: 1.0000 - val_loss: 0.0507 - val_accuracy: 1.0000\n",
            "Epoch 19/50\n",
            "32/32 [==============================] - 0s 12ms/step - loss: 0.0461 - accuracy: 1.0000 - val_loss: 0.0468 - val_accuracy: 1.0000\n",
            "Epoch 20/50\n",
            "32/32 [==============================] - 0s 8ms/step - loss: 0.0426 - accuracy: 1.0000 - val_loss: 0.0434 - val_accuracy: 1.0000\n",
            "Epoch 21/50\n",
            "32/32 [==============================] - 0s 9ms/step - loss: 0.0396 - accuracy: 1.0000 - val_loss: 0.0403 - val_accuracy: 1.0000\n",
            "Epoch 22/50\n",
            "32/32 [==============================] - 0s 8ms/step - loss: 0.0369 - accuracy: 1.0000 - val_loss: 0.0376 - val_accuracy: 1.0000\n",
            "Epoch 23/50\n",
            "32/32 [==============================] - 0s 11ms/step - loss: 0.0344 - accuracy: 1.0000 - val_loss: 0.0351 - val_accuracy: 1.0000\n",
            "Epoch 24/50\n",
            "32/32 [==============================] - 0s 9ms/step - loss: 0.0322 - accuracy: 1.0000 - val_loss: 0.0329 - val_accuracy: 1.0000\n",
            "Epoch 25/50\n",
            "32/32 [==============================] - 0s 9ms/step - loss: 0.0302 - accuracy: 1.0000 - val_loss: 0.0309 - val_accuracy: 1.0000\n",
            "Epoch 26/50\n",
            "32/32 [==============================] - 0s 8ms/step - loss: 0.0284 - accuracy: 1.0000 - val_loss: 0.0291 - val_accuracy: 1.0000\n",
            "Epoch 27/50\n",
            "32/32 [==============================] - 0s 6ms/step - loss: 0.0267 - accuracy: 1.0000 - val_loss: 0.0274 - val_accuracy: 1.0000\n",
            "Epoch 28/50\n",
            "32/32 [==============================] - 0s 7ms/step - loss: 0.0252 - accuracy: 1.0000 - val_loss: 0.0259 - val_accuracy: 1.0000\n",
            "Epoch 29/50\n",
            "32/32 [==============================] - 0s 9ms/step - loss: 0.0238 - accuracy: 1.0000 - val_loss: 0.0245 - val_accuracy: 1.0000\n",
            "Epoch 30/50\n",
            "32/32 [==============================] - 0s 8ms/step - loss: 0.0226 - accuracy: 1.0000 - val_loss: 0.0232 - val_accuracy: 1.0000\n",
            "Epoch 31/50\n",
            "32/32 [==============================] - 0s 7ms/step - loss: 0.0214 - accuracy: 1.0000 - val_loss: 0.0220 - val_accuracy: 1.0000\n",
            "Epoch 32/50\n",
            "32/32 [==============================] - 0s 8ms/step - loss: 0.0203 - accuracy: 1.0000 - val_loss: 0.0209 - val_accuracy: 1.0000\n",
            "Epoch 33/50\n",
            "32/32 [==============================] - 0s 6ms/step - loss: 0.0193 - accuracy: 1.0000 - val_loss: 0.0199 - val_accuracy: 1.0000\n",
            "Epoch 34/50\n",
            "32/32 [==============================] - 0s 6ms/step - loss: 0.0184 - accuracy: 1.0000 - val_loss: 0.0189 - val_accuracy: 1.0000\n",
            "Epoch 35/50\n",
            "32/32 [==============================] - 0s 7ms/step - loss: 0.0175 - accuracy: 1.0000 - val_loss: 0.0181 - val_accuracy: 1.0000\n",
            "Epoch 36/50\n",
            "32/32 [==============================] - 0s 7ms/step - loss: 0.0167 - accuracy: 1.0000 - val_loss: 0.0172 - val_accuracy: 1.0000\n",
            "Epoch 37/50\n",
            "32/32 [==============================] - 0s 6ms/step - loss: 0.0159 - accuracy: 1.0000 - val_loss: 0.0165 - val_accuracy: 1.0000\n",
            "Epoch 38/50\n",
            "32/32 [==============================] - 0s 7ms/step - loss: 0.0152 - accuracy: 1.0000 - val_loss: 0.0158 - val_accuracy: 1.0000\n",
            "Epoch 39/50\n",
            "32/32 [==============================] - 0s 12ms/step - loss: 0.0146 - accuracy: 1.0000 - val_loss: 0.0151 - val_accuracy: 1.0000\n",
            "Epoch 40/50\n",
            "32/32 [==============================] - 0s 7ms/step - loss: 0.0140 - accuracy: 1.0000 - val_loss: 0.0145 - val_accuracy: 1.0000\n",
            "Epoch 41/50\n",
            "32/32 [==============================] - 0s 6ms/step - loss: 0.0134 - accuracy: 1.0000 - val_loss: 0.0139 - val_accuracy: 1.0000\n",
            "Epoch 42/50\n",
            "32/32 [==============================] - 0s 8ms/step - loss: 0.0128 - accuracy: 1.0000 - val_loss: 0.0133 - val_accuracy: 1.0000\n",
            "Epoch 43/50\n",
            "32/32 [==============================] - 0s 6ms/step - loss: 0.0123 - accuracy: 1.0000 - val_loss: 0.0128 - val_accuracy: 1.0000\n",
            "Epoch 44/50\n",
            "32/32 [==============================] - 0s 7ms/step - loss: 0.0118 - accuracy: 1.0000 - val_loss: 0.0123 - val_accuracy: 1.0000\n",
            "Epoch 45/50\n",
            "32/32 [==============================] - 0s 6ms/step - loss: 0.0114 - accuracy: 1.0000 - val_loss: 0.0118 - val_accuracy: 1.0000\n",
            "Epoch 46/50\n",
            "32/32 [==============================] - 0s 5ms/step - loss: 0.0110 - accuracy: 1.0000 - val_loss: 0.0114 - val_accuracy: 1.0000\n",
            "Epoch 47/50\n",
            "32/32 [==============================] - 0s 7ms/step - loss: 0.0105 - accuracy: 1.0000 - val_loss: 0.0110 - val_accuracy: 1.0000\n",
            "Epoch 48/50\n",
            "32/32 [==============================] - 0s 8ms/step - loss: 0.0102 - accuracy: 1.0000 - val_loss: 0.0106 - val_accuracy: 1.0000\n",
            "Epoch 49/50\n",
            "32/32 [==============================] - 0s 6ms/step - loss: 0.0098 - accuracy: 1.0000 - val_loss: 0.0102 - val_accuracy: 1.0000\n",
            "Epoch 50/50\n",
            "32/32 [==============================] - 0s 5ms/step - loss: 0.0094 - accuracy: 1.0000 - val_loss: 0.0098 - val_accuracy: 1.0000\n",
            "Model: \"sequential\"\n",
            "_________________________________________________________________\n",
            " Layer (type)                Output Shape              Param #   \n",
            "=================================================================\n",
            " dense (Dense)               (None, 1)                 302       \n",
            "                                                                 \n",
            "=================================================================\n",
            "Total params: 302\n",
            "Trainable params: 302\n",
            "Non-trainable params: 0\n",
            "_________________________________________________________________\n",
            "None\n"
          ]
        },
        {
          "output_type": "stream",
          "name": "stderr",
          "text": [
            "WARNING:absl:Found untraced functions such as _update_step_xla while saving (showing 1 of 1). These functions will not be directly callable after loading.\n"
          ]
        }
      ]
    },
    {
      "cell_type": "markdown",
      "metadata": {
        "id": "5KNDNj0vDdfq"
      },
      "source": [
        "Testing with other data, incomplete\n"
      ]
    },
    {
      "cell_type": "code",
      "metadata": {
        "id": "YevV3VIiYKX-"
      },
      "source": [
        "import tensorflow as tf"
      ],
      "execution_count": null,
      "outputs": []
    },
    {
      "cell_type": "code",
      "metadata": {
        "colab": {
          "base_uri": "https://localhost:8080/"
        },
        "id": "x_C-YWyUfTbb",
        "outputId": "1540382f-f756-4a12-c310-37a132f054db"
      },
      "source": [
        "#model = tf.keras.models.load_model(model_dir)\n",
        "applications = ['subcomm3d']\n",
        "ranks = ['32', '64', '128', '256', '512']\n",
        "app = []\n",
        "accuracy = []\n",
        "count = 0\n",
        "current = 0\n",
        "print(number_of_flows_per_application)\n",
        "for i in applications:\n",
        "  for j in ranks:\n",
        "    label_test = prepivot_train.iloc[current:current+number_of_flows_per_application[count], :]['Is_Elephant'].to_list()\n",
        "    dataq_test = xp_train\n",
        "    labels_1_test = [[i] for i in label_test]\n",
        "    labels_1_test = np.array(labels_1_test)\n",
        "    test_X_1 = dataq_test[current:current+number_of_flows_per_application[count], :]\n",
        "    test_Y_1 = labels_1_train[current:current+number_of_flows_per_application[count], :]\n",
        "    scores = model.evaluate(test_X_1, test_Y_1, verbose=0)\n",
        "    predict= model.predict(test_X_1, verbose=1)\n",
        "    print(predict.shape)\n",
        "    app.append('{}-{}'.format(i, j))\n",
        "    accuracy.append(scores[1]*100)\n",
        "    print(\"Accuracy of {} {}: {}\".format(i, j, scores[1]*100))\n",
        "    current += number_of_flows_per_application[count]\n",
        "    count += 1"
      ],
      "execution_count": null,
      "outputs": [
        {
          "output_type": "stream",
          "name": "stdout",
          "text": [
            "[100, 220, 460, 950, 1950]\n",
            "4/4 [==============================] - 0s 3ms/step\n",
            "(100, 1)\n",
            "Accuracy of subcomm3d 32: 33.000001311302185\n",
            "7/7 [==============================] - 0s 3ms/step\n",
            "(220, 1)\n",
            "Accuracy of subcomm3d 64: 28.63636314868927\n",
            "15/15 [==============================] - 0s 2ms/step\n",
            "(460, 1)\n",
            "Accuracy of subcomm3d 128: 24.782608449459076\n",
            "30/30 [==============================] - 0s 3ms/step\n",
            "(950, 1)\n",
            "Accuracy of subcomm3d 256: 19.36842054128647\n",
            "61/61 [==============================] - 0s 2ms/step\n",
            "(1950, 1)\n",
            "Accuracy of subcomm3d 512: 13.076923787593842\n"
          ]
        }
      ]
    },
    {
      "cell_type": "code",
      "metadata": {
        "id": "XFR4F6H-fveS"
      },
      "source": [
        "import tensorflow as tf\n",
        "model = tf.keras.models.load_model(model_dir)"
      ],
      "execution_count": null,
      "outputs": []
    },
    {
      "cell_type": "code",
      "metadata": {
        "id": "qdgMRcMSHeUD"
      },
      "source": [
        "applications = ['laghos']\n",
        "ranks = ['32', '64', '128', '256', '512']\n",
        "#applications = ['swfft']\n",
        "ranks = ['32','64', '128', '256', '512']\n",
        "#applications = ['amg', 'kripke', 'laghos', 'stencil4d', 'subcomm3d', 'sw4lite', 'minife']\n",
        "#ranks = ['32', '64', '128', '256', '512']"
      ],
      "execution_count": null,
      "outputs": []
    },
    {
      "cell_type": "code",
      "metadata": {
        "colab": {
          "base_uri": "https://localhost:8080/"
        },
        "id": "OJqMSIr1uFtb",
        "outputId": "99d2f0e9-bebd-4a17-9402-1fe11740b94e"
      },
      "source": [
        "for a in applications:\n",
        "  for r in ranks:\n",
        "    #f_name = '/content/gdrive/My Drive/csvstest/full-{}-{}.csv'.format(a, r)\n",
        "    f_name = '/content/gdrive/My Drive/csvs/full-{}-{}.csv'.format(a, r)\n",
        "    print(f_name)\n",
        "    data_a = pd.read_csv(f_name)\n",
        "    data_a = data_a.sample(frac=1).reset_index(drop=True)\n",
        "    data_list = []\n",
        "    range_of_columns = 301\n",
        "    for k in range(300):\n",
        "      data_list.append('Data_{}'.format(k))\n",
        "    data_a['result'] = data_a[data_list].sum(axis=1)\n",
        "    elephant = []\n",
        "    for z in data_a['result'].to_list():\n",
        "        if z > (1 * 10**8):\n",
        "          elephant.append(1)\n",
        "        else:\n",
        "          elephant.append(0)\n",
        "    data_a['Is_Elephant'] = elephant\n",
        "    data_a = data_a.fillna(0)\n",
        "    labels_train = data_a['Is_Elephant'].to_list()\n",
        "    #print(data_a)\n",
        "    #print(labels_train)\n",
        "    for k in range(301):\n",
        "      if 'Time_{}'.format(k) in data_a.columns:\n",
        "        data_a = data_a.drop('Time_{}'.format(k), axis='columns')\n",
        "      if 'Rate_{}'.format(k) in data_a.columns:\n",
        "        data_a = data_a.drop('Rate_{}'.format(k), axis='columns')\n",
        "      if 'Packet_Rate_{}'.format(k) in data_a.columns:\n",
        "        data_a = data_a.drop('Packet_Rate_{}'.format(k), axis='columns')\n",
        "    result = pd.DataFrame()\n",
        "    shape_of_df = data_a.iloc[:, 2:8].shape[1] # Current shape of dataframe\n",
        "    #print(shape_of_df)\n",
        "    number_of_times = range_of_columns // shape_of_df\n",
        "    number_of_add = range_of_columns % shape_of_df\n",
        "    for ii in range(number_of_times):\n",
        "      result = pd.concat([result, data_a.iloc[:, 2:(shape_of_df+2)]], axis=1)\n",
        "    result = pd.concat([result, data_a.iloc[:, 2:(number_of_add+2)]], axis=1)\n",
        "    #print(shape_of_df, number_of_times)\n",
        "    #print(result.shape)\n",
        "    #print(result)\n",
        "    scaler = MinMaxScaler(feature_range=(0,1))\n",
        "    xp_train = scaler.fit_transform(result)\n",
        "\n",
        "    labels_1_train = [[i] for i in labels_train]\n",
        "    labels_1_train = np.array(labels_1_train)\n",
        "    train_X = xp_train\n",
        "    train_Y = labels_1_train\n",
        "    scores = model.evaluate(train_X, train_Y, verbose=0)\n",
        "    predict= model.predict(train_X, verbose=1)\n",
        "    #print(predict)\n",
        "    print(\"Accuracy of {} {}: {}\".format(a, r , scores[1]*100))"
      ],
      "execution_count": null,
      "outputs": [
        {
          "output_type": "stream",
          "name": "stdout",
          "text": [
            "/content/gdrive/My Drive/csvs/full-laghos-32.csv\n",
            "9/9 [==============================] - 0s 2ms/step\n",
            "Accuracy of laghos 32: 24.372759461402893\n",
            "/content/gdrive/My Drive/csvs/full-laghos-64.csv\n",
            "21/21 [==============================] - 0s 2ms/step\n",
            "Accuracy of laghos 64: 56.711918115615845\n",
            "/content/gdrive/My Drive/csvs/full-laghos-128.csv\n",
            "46/46 [==============================] - 0s 1ms/step\n",
            "Accuracy of laghos 128: 34.83068346977234\n",
            "/content/gdrive/My Drive/csvs/full-laghos-256.csv\n",
            "98/98 [==============================] - 0s 1ms/step\n",
            "Accuracy of laghos 256: 25.07195472717285\n",
            "/content/gdrive/My Drive/csvs/full-laghos-512.csv\n",
            "211/211 [==============================] - 0s 1ms/step\n",
            "Accuracy of laghos 512: 60.05648970603943\n"
          ]
        }
      ]
    },
    {
      "cell_type": "code",
      "metadata": {
        "id": "QaqXwS5BaFk8"
      },
      "source": [],
      "execution_count": null,
      "outputs": []
    },
    {
      "cell_type": "code",
      "metadata": {
        "colab": {
          "base_uri": "https://localhost:8080/"
        },
        "id": "8cKMoS-XGVEz",
        "outputId": "489d7ccf-8fe2-4f46-c530-299a739715f9"
      },
      "source": [
        "print(train_X.shape)"
      ],
      "execution_count": null,
      "outputs": [
        {
          "output_type": "stream",
          "name": "stdout",
          "text": [
            "(51221, 301)\n"
          ]
        }
      ]
    },
    {
      "cell_type": "code",
      "metadata": {
        "colab": {
          "base_uri": "https://localhost:8080/"
        },
        "id": "yh_JtFMPU5tQ",
        "outputId": "e0429371-ef7c-49a2-aed2-1296b2e9ecbd"
      },
      "source": [
        "\n",
        "!saved_model_cli show --dir model --tag_set serve --signature_def serving_default"
      ],
      "execution_count": null,
      "outputs": [
        {
          "output_type": "stream",
          "name": "stdout",
          "text": [
            "The given SavedModel SignatureDef contains the following input(s):\n",
            "  inputs['dense_1_input'] tensor_info:\n",
            "      dtype: DT_FLOAT\n",
            "      shape: (-1, 301)\n",
            "      name: serving_default_dense_1_input:0\n",
            "The given SavedModel SignatureDef contains the following output(s):\n",
            "  outputs['dense_1'] tensor_info:\n",
            "      dtype: DT_FLOAT\n",
            "      shape: (-1, 1)\n",
            "      name: StatefulPartitionedCall:0\n",
            "Method name is: tensorflow/serving/predict\n"
          ]
        }
      ]
    },
    {
      "cell_type": "code",
      "metadata": {
        "colab": {
          "base_uri": "https://localhost:8080/",
          "height": 153
        },
        "id": "Fzb1UpthEOEI",
        "outputId": "7e23d30f-7681-4199-eb6d-93f1f7c7fa99"
      },
      "source": [
        "from google.colab import files\n",
        "!zip -r model.zip model\n",
        "files.download(\"model.zip\")"
      ],
      "execution_count": null,
      "outputs": [
        {
          "output_type": "stream",
          "name": "stdout",
          "text": [
            "  adding: model/ (stored 0%)\n",
            "  adding: model/variables/ (stored 0%)\n",
            "  adding: model/variables/variables.index (deflated 55%)\n",
            "  adding: model/variables/variables.data-00000-of-00001 (deflated 32%)\n",
            "  adding: model/saved_model.pb (deflated 85%)\n",
            "  adding: model/keras_metadata.pb (deflated 78%)\n",
            "  adding: model/assets/ (stored 0%)\n"
          ]
        },
        {
          "output_type": "display_data",
          "data": {
            "application/javascript": [
              "\n",
              "    async function download(id, filename, size) {\n",
              "      if (!google.colab.kernel.accessAllowed) {\n",
              "        return;\n",
              "      }\n",
              "      const div = document.createElement('div');\n",
              "      const label = document.createElement('label');\n",
              "      label.textContent = `Downloading \"${filename}\": `;\n",
              "      div.appendChild(label);\n",
              "      const progress = document.createElement('progress');\n",
              "      progress.max = size;\n",
              "      div.appendChild(progress);\n",
              "      document.body.appendChild(div);\n",
              "\n",
              "      const buffers = [];\n",
              "      let downloaded = 0;\n",
              "\n",
              "      const channel = await google.colab.kernel.comms.open(id);\n",
              "      // Send a message to notify the kernel that we're ready.\n",
              "      channel.send({})\n",
              "\n",
              "      for await (const message of channel.messages) {\n",
              "        // Send a message to notify the kernel that we're ready.\n",
              "        channel.send({})\n",
              "        if (message.buffers) {\n",
              "          for (const buffer of message.buffers) {\n",
              "            buffers.push(buffer);\n",
              "            downloaded += buffer.byteLength;\n",
              "            progress.value = downloaded;\n",
              "          }\n",
              "        }\n",
              "      }\n",
              "      const blob = new Blob(buffers, {type: 'application/binary'});\n",
              "      const a = document.createElement('a');\n",
              "      a.href = window.URL.createObjectURL(blob);\n",
              "      a.download = filename;\n",
              "      div.appendChild(a);\n",
              "      a.click();\n",
              "      div.remove();\n",
              "    }\n",
              "  "
            ],
            "text/plain": [
              "<IPython.core.display.Javascript object>"
            ]
          },
          "metadata": {}
        },
        {
          "output_type": "display_data",
          "data": {
            "application/javascript": [
              "download(\"download_d4ed9002-6853-457e-8300-7f14d5054744\", \"model.zip\", 13855)"
            ],
            "text/plain": [
              "<IPython.core.display.Javascript object>"
            ]
          },
          "metadata": {}
        }
      ]
    },
    {
      "cell_type": "code",
      "metadata": {
        "colab": {
          "base_uri": "https://localhost:8080/",
          "height": 17
        },
        "id": "VfkMhbNwFUhS",
        "outputId": "b27bc545-15d3-42d6-efe5-6e183cd4412c"
      },
      "source": [
        "files.download(\"test_num.txt\")"
      ],
      "execution_count": null,
      "outputs": [
        {
          "output_type": "display_data",
          "data": {
            "application/javascript": [
              "\n",
              "    async function download(id, filename, size) {\n",
              "      if (!google.colab.kernel.accessAllowed) {\n",
              "        return;\n",
              "      }\n",
              "      const div = document.createElement('div');\n",
              "      const label = document.createElement('label');\n",
              "      label.textContent = `Downloading \"${filename}\": `;\n",
              "      div.appendChild(label);\n",
              "      const progress = document.createElement('progress');\n",
              "      progress.max = size;\n",
              "      div.appendChild(progress);\n",
              "      document.body.appendChild(div);\n",
              "\n",
              "      const buffers = [];\n",
              "      let downloaded = 0;\n",
              "\n",
              "      const channel = await google.colab.kernel.comms.open(id);\n",
              "      // Send a message to notify the kernel that we're ready.\n",
              "      channel.send({})\n",
              "\n",
              "      for await (const message of channel.messages) {\n",
              "        // Send a message to notify the kernel that we're ready.\n",
              "        channel.send({})\n",
              "        if (message.buffers) {\n",
              "          for (const buffer of message.buffers) {\n",
              "            buffers.push(buffer);\n",
              "            downloaded += buffer.byteLength;\n",
              "            progress.value = downloaded;\n",
              "          }\n",
              "        }\n",
              "      }\n",
              "      const blob = new Blob(buffers, {type: 'application/binary'});\n",
              "      const a = document.createElement('a');\n",
              "      a.href = window.URL.createObjectURL(blob);\n",
              "      a.download = filename;\n",
              "      div.appendChild(a);\n",
              "      a.click();\n",
              "      div.remove();\n",
              "    }\n",
              "  "
            ],
            "text/plain": [
              "<IPython.core.display.Javascript object>"
            ]
          },
          "metadata": {}
        },
        {
          "output_type": "display_data",
          "data": {
            "application/javascript": [
              "download(\"download_c97e8c78-450d-4362-b7f5-4de1b00a97bd\", \"test_num.txt\", 138757689)"
            ],
            "text/plain": [
              "<IPython.core.display.Javascript object>"
            ]
          },
          "metadata": {}
        }
      ]
    },
    {
      "cell_type": "markdown",
      "metadata": {
        "id": "exC3mK4pIndp"
      },
      "source": []
    },
    {
      "cell_type": "code",
      "metadata": {
        "colab": {
          "base_uri": "https://localhost:8080/"
        },
        "id": "p3h_IYCHH4eO",
        "outputId": "072b54a2-a12e-4d0b-83d4-d5cf488b18d2"
      },
      "source": [
        "print(train_X)\n",
        "np.savetxt('test_num.txt', train_X, fmt='%f')\n"
      ],
      "execution_count": null,
      "outputs": [
        {
          "output_type": "stream",
          "name": "stdout",
          "text": [
            "[[3.67508196e-02 4.63011706e-02 3.80958194e-02 ... 3.26176514e-02\n",
            "  3.87473501e-02 1.10198917e-01]\n",
            " [0.00000000e+00 3.17889014e-05 0.00000000e+00 ... 0.00000000e+00\n",
            "  0.00000000e+00 0.00000000e+00]\n",
            " [7.39453110e-05 2.59333857e-03 4.44408841e-04 ... 3.99917377e-04\n",
            "  4.90472786e-04 1.28737053e-03]\n",
            " ...\n",
            " [1.50238092e-04 1.62759175e-04 8.13795875e-05 ... 7.34425026e-05\n",
            "  1.60563981e-04 4.70809793e-04]\n",
            " [9.61758537e-03 1.04191303e-02 5.20956515e-03 ... 4.70146770e-03\n",
            "  1.02786036e-02 3.01391831e-02]\n",
            " [9.61758537e-03 1.04191303e-02 5.20956515e-03 ... 4.70146770e-03\n",
            "  1.02786036e-02 3.01391831e-02]]\n"
          ]
        }
      ]
    },
    {
      "cell_type": "code",
      "metadata": {
        "colab": {
          "base_uri": "https://localhost:8080/"
        },
        "id": "6PKZrQoWaG5L",
        "outputId": "04ee3df5-a453-4253-ca45-ae69a1ae30b5"
      },
      "source": [
        "predict= model.predict(train_X, verbose=1)\n",
        "print(predict)"
      ],
      "execution_count": null,
      "outputs": [
        {
          "output_type": "stream",
          "name": "stdout",
          "text": [
            "1601/1601 [==============================] - 2s 1ms/step\n",
            "[[0.9857718 ]\n",
            " [0.00612363]\n",
            " [0.0072327 ]\n",
            " ...\n",
            " [0.00630432]\n",
            " [0.04248509]\n",
            " [0.04241738]]\n"
          ]
        }
      ]
    }
  ]
}